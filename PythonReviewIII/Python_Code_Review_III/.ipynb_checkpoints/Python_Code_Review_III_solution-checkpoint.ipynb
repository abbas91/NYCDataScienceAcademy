{
 "cells": [
  {
   "cell_type": "markdown",
   "metadata": {},
   "source": [
    "### Problem 1"
   ]
  },
  {
   "cell_type": "markdown",
   "metadata": {},
   "source": [
    "The sum of the squares of the first 10 natural numbers is: $$1^2+2^2+3^2+4^2+5^2+6^2+7^2+8^2+9^2+10^2=385.$$  The square of the sum of the first 10 natural numbers is $$(1+2+3+4+5+6+7+8+9+10)^2=3025.$$  Hence, the difference between the sum of the squares of the first ten natural numbers and the square of the sum is $3025-385=2640$.  \n",
    "<br><br>\n",
    "Find the difference between the sum of the squares of the first one hundred natural numbers and the square of the sum."
   ]
  },
  {
   "cell_type": "code",
   "execution_count": 1,
   "metadata": {
    "collapsed": false
   },
   "outputs": [],
   "source": [
    "# Write your code here.\n",
    "def problem_1():\n",
    "    return sum(range(1, 101))**2 - sum(n*n for n in range(1, 101))"
   ]
  },
  {
   "cell_type": "code",
   "execution_count": 3,
   "metadata": {
    "collapsed": false
   },
   "outputs": [
    {
     "data": {
      "text/plain": [
       "25164150"
      ]
     },
     "execution_count": 3,
     "metadata": {},
     "output_type": "execute_result"
    }
   ],
   "source": [
    "problem_1()"
   ]
  },
  {
   "cell_type": "markdown",
   "metadata": {},
   "source": [
    "### Problem 2"
   ]
  },
  {
   "cell_type": "markdown",
   "metadata": {},
   "source": [
    "$2^{15}=32768$, and the sum of its digits is $3+2+7+6+8=26$.\n",
    "<br><br>\n",
    "What is the sum of the digits of the number $2^{1000}$?"
   ]
  },
  {
   "cell_type": "code",
   "execution_count": 5,
   "metadata": {
    "collapsed": true
   },
   "outputs": [],
   "source": [
    "# Write your code here.\n",
    "def problem_2():\n",
    "    return sum(map(int, str(2**1000)))"
   ]
  },
  {
   "cell_type": "code",
   "execution_count": 6,
   "metadata": {
    "collapsed": false
   },
   "outputs": [
    {
     "name": "stdout",
     "output_type": "stream",
     "text": [
      "1366\n"
     ]
    }
   ],
   "source": [
    "print problem_2()"
   ]
  },
  {
   "cell_type": "markdown",
   "metadata": {},
   "source": [
    "### Problem 3"
   ]
  },
  {
   "cell_type": "markdown",
   "metadata": {},
   "source": [
    "The Fibonacci sequence is defined by the recurrence relation $$F_1=F_2=1, \\hspace{.25in} F_n=F_{n-1}+F_{n-2}.$$  Hence, the first twelve terms will be:\n",
    "$$F_1=1 \\\\\n",
    "F_2=1 \\\\\n",
    "F_3=2 \\\\\n",
    "F_4=3 \\\\\n",
    "F_5=5 \\\\\n",
    "F_6=8 \\\\\n",
    "F_7=13 \\\\\n",
    "F_8=21 \\\\\n",
    "F_9=34 \\\\\n",
    "F_{10}=55 \\\\\n",
    "F_{11}=89 \\\\\n",
    "F_{12}=144.\n",
    "$$\n",
    "The twelfth term, $F_{12}$ is the first term to contain three digits.\n",
    "<br><br>\n",
    "What is the index of the first term of the Fibonacci sequence to contain over 1000 digits?"
   ]
  },
  {
   "cell_type": "code",
   "execution_count": 7,
   "metadata": {
    "collapsed": true
   },
   "outputs": [],
   "source": [
    "# Write your code here.\n",
    "def problem_3():\n",
    "    index, n_1, n_2, n_3 = 3, 1, 1, 2\n",
    "    while len(str(n_3)) < 1000:\n",
    "        n_1, n_2 = n_2, n_3\n",
    "        n_3 = n_1+n_2\n",
    "        index += 1\n",
    "    return index"
   ]
  },
  {
   "cell_type": "code",
   "execution_count": 8,
   "metadata": {
    "collapsed": false
   },
   "outputs": [
    {
     "name": "stdout",
     "output_type": "stream",
     "text": [
      "4782\n"
     ]
    }
   ],
   "source": [
    "print problem_3()"
   ]
  },
  {
   "cell_type": "markdown",
   "metadata": {},
   "source": [
    "### Problem 4"
   ]
  },
  {
   "cell_type": "markdown",
   "metadata": {},
   "source": [
    "Using the file names.txt (in the data folder), a 46K text file containing over five-thousand first names, begin by sorting it into alphabetical order. Then working out the alphabetical value for each name, multiply this value by its alphabetical position in the list to obtain a name score.\n",
    "<br><br>\n",
    "For example, when the list is sorted into alphabetical order, COLIN, which is worth $3+15+12+9+14=53$, is the 938th name in the list.  So, COLIN would receive a score of $938\\cdot53=49714$.  \n",
    "<br><br>\n",
    "What is the sum of all name scores in the list?"
   ]
  },
  {
   "cell_type": "code",
   "execution_count": 10,
   "metadata": {
    "collapsed": true
   },
   "outputs": [],
   "source": [
    "# Write your code here.\n",
    "def problem_4():\n",
    "    letter_score = {letter:score for score, letter in enumerate('\\\"ABCDEFGHIJKLMNOPQRSTUVWXYZ')}\n",
    "    names = sorted(name for name in open('data/names.txt').read().split(','))\n",
    "    \n",
    "    total = 0\n",
    "    for position, name in enumerate(names):\n",
    "        name_score = 0\n",
    "        for letter in name:\n",
    "            name_score += letter_score[letter]\n",
    "        name_score *= position + 1\n",
    "        total += name_score\n",
    "    return total"
   ]
  },
  {
   "cell_type": "code",
   "execution_count": 12,
   "metadata": {
    "collapsed": false
   },
   "outputs": [
    {
     "data": {
      "text/plain": [
       "871198282"
      ]
     },
     "execution_count": 12,
     "metadata": {},
     "output_type": "execute_result"
    }
   ],
   "source": [
    "problem_4()"
   ]
  },
  {
   "cell_type": "code",
   "execution_count": 13,
   "metadata": {
    "collapsed": false
   },
   "outputs": [],
   "source": [
    "### Alternative\n",
    "\n",
    "def problem_4():\n",
    "    names = sorted(name for name in open('data/names.txt').read().replace('\"','').split(','))\n",
    "    names = map(lambda name: sum(map(lambda chra: ord(chra)-64, name)), names)\n",
    "    product = map(lambda tup: tup[0]*tup[1], zip(names, range(1, len(names)+1)))\n",
    "    return sum(product)"
   ]
  },
  {
   "cell_type": "markdown",
   "metadata": {},
   "source": [
    "### Problem 5. Implement Singly Linked List Class (Homework)\n",
    "\n",
    "Linked list is a very popular data structure that can be used in multiple real life applications like:\n",
    "\n",
    "- A great way to represent a deck of cards in a game.\n",
    "- The browser cache which allows you to hit the BACK button (a linked list of URLs) \n",
    "- Applications that have a Most Recently Used (MRU) list (a linked list of file names) \n",
    "- Undo functionality in Photoshop or Word (a linked list of state)\n",
    "\n",
    "\n",
    "In this assignment, we want to implement a singly linked list class. Please read the following tutorial to get more idea what a linked list is.\n",
    "\n",
    "http://interactivepython.org/runestone/static/pythonds/BasicDS/ImplementinganUnorderedListLinkedLists.html"
   ]
  },
  {
   "cell_type": "markdown",
   "metadata": {},
   "source": [
    "```python\n",
    "class Node(object):\n",
    "    def __init__(self, data, next_node=None):\n",
    "        self.next_ = next_node\n",
    "        self.data = data\n",
    "\n",
    "    def __str__(self):\n",
    "        return self.data\n",
    "\n",
    "class LinkedList(object):\n",
    "    def __init__(self, head=None):\n",
    "        self.head = head\n",
    "        \n",
    "        \n",
    "    def __len__(self):\n",
    "    # return the length of linked list\n",
    "    \n",
    "    \n",
    "    def __str__(self):\n",
    "    # Implement __str__ method so that we can print out \n",
    "    # a LinkedList properly\n",
    "    \n",
    "    \n",
    "    def insert_to_front(self, data):\n",
    "    # If the data we are inserting is None, return\n",
    "    # Create a node with the input data\n",
    "    # If this is an empty list, assign the head to the node\n",
    "    # Else set the node.next to the head and set the head to the node\n",
    "    \n",
    "    def append(self, data, next_node=None):\n",
    "    # If the data we are inserting is None, return\n",
    "    # Create a node with the input data\n",
    "    # If this is an empty list, assign the head to the node\n",
    "    # Else iterate to the end of the list and set the final node's next to the new node\n",
    "    \n",
    "    \n",
    "    def find(self, data):\n",
    "    # If data we are finding is None, return\n",
    "    # If the list is empty, return\n",
    "    # For each node, if the value is a match, return it; \n",
    "    # else, move on to the next node\n",
    "```"
   ]
  },
  {
   "cell_type": "code",
   "execution_count": 5,
   "metadata": {
    "collapsed": true
   },
   "outputs": [],
   "source": [
    "#### Here is a little demonstration the relation between Node and LinkedList\n",
    "\n",
    "class Node(object):\n",
    "\n",
    "    def __init__(self, data, next_node=None):\n",
    "        self.next_ = next_node\n",
    "        self.data = data\n",
    "\n",
    "    def __str__(self):\n",
    "        return str(self.data)\n",
    "\n",
    "\n",
    "class LinkedList(object):\n",
    "\n",
    "    def __init__(self, head=None):\n",
    "        self.head = head\n",
    "\n",
    "A = Node(1)\n",
    "B = Node(2)\n",
    "C = Node(3)\n",
    "D = Node(4)\n",
    "\n",
    "lst = LinkedList()\n",
    "lst.head = A\n",
    "curr = lst.head\n",
    "for i in [B, C, D]:\n",
    "    curr.next_ = i\n",
    "    curr = curr.next_"
   ]
  },
  {
   "cell_type": "code",
   "execution_count": 6,
   "metadata": {
    "collapsed": false
   },
   "outputs": [
    {
     "data": {
      "text/plain": [
       "<__main__.LinkedList at 0x109538050>"
      ]
     },
     "execution_count": 6,
     "metadata": {},
     "output_type": "execute_result"
    }
   ],
   "source": [
    "#### lst is a LinkedList object\n",
    "lst"
   ]
  },
  {
   "cell_type": "code",
   "execution_count": 7,
   "metadata": {
    "collapsed": false
   },
   "outputs": [
    {
     "data": {
      "text/plain": [
       "<__main__.Node at 0x1094fcdd0>"
      ]
     },
     "execution_count": 7,
     "metadata": {},
     "output_type": "execute_result"
    }
   ],
   "source": [
    "#### lst.head is a Node object\n",
    "lst.head"
   ]
  },
  {
   "cell_type": "code",
   "execution_count": 8,
   "metadata": {
    "collapsed": false
   },
   "outputs": [
    {
     "name": "stdout",
     "output_type": "stream",
     "text": [
      "1\n"
     ]
    }
   ],
   "source": [
    "#### We have already implemented __str__ function for a Node object\n",
    "print lst.head"
   ]
  },
  {
   "cell_type": "code",
   "execution_count": 9,
   "metadata": {
    "collapsed": false
   },
   "outputs": [
    {
     "name": "stdout",
     "output_type": "stream",
     "text": [
      "2\n",
      "3\n",
      "4\n",
      "None\n"
     ]
    }
   ],
   "source": [
    "#### And a Node object has the next_ attribute\n",
    "print lst.head.next_\n",
    "print lst.head.next_.next_\n",
    "print lst.head.next_.next_.next_\n",
    "print lst.head.next_.next_.next_.next_"
   ]
  },
  {
   "cell_type": "code",
   "execution_count": 10,
   "metadata": {
    "collapsed": true
   },
   "outputs": [],
   "source": [
    "#### Your code here\n",
    "\n",
    "class Node(object):\n",
    "\n",
    "    def __init__(self, data, next_node=None):\n",
    "        self.next_ = next_node\n",
    "        self.data = data\n",
    "\n",
    "    def __str__(self):\n",
    "        return str(self.data)\n",
    "\n",
    "\n",
    "class LinkedList(object):\n",
    "\n",
    "    def __init__(self, head=None):\n",
    "        self.head = head\n",
    "\n",
    "    def __len__(self):\n",
    "        curr = self.head\n",
    "        counter = 0\n",
    "        while curr is not None:\n",
    "            counter += 1\n",
    "            curr = curr.next_\n",
    "        return counter\n",
    "    \n",
    "    def __str__(self):\n",
    "        string = '['\n",
    "        curr = self.head\n",
    "        if len(self) == 0:\n",
    "            return '[]'\n",
    "        else:\n",
    "            while curr:\n",
    "                string += str(curr) + ', '\n",
    "                curr = curr.next_\n",
    "            return string[:-2]+']'\n",
    "\n",
    "    def insert_to_front(self, data):\n",
    "        if data is None:\n",
    "            return \n",
    "        node = Node(data)\n",
    "        if self.head is None:\n",
    "            self.head = node\n",
    "        else:\n",
    "            node.next_ = self.head\n",
    "            self.head = node\n",
    "        return \n",
    "\n",
    "    def append(self, data, next_node=None):\n",
    "        if data is None:\n",
    "            return\n",
    "        node = Node(data, next_node)\n",
    "        if self.head is None:\n",
    "            self.head = node\n",
    "        else:\n",
    "            curr_node = self.head\n",
    "            while curr_node.next_ is not None:\n",
    "                curr_node = curr_node.next_\n",
    "            curr_node.next_ = node\n",
    "        return \n",
    "\n",
    "    def find(self, data):\n",
    "        if data is None:\n",
    "            return\n",
    "        if self.head is None:\n",
    "            return\n",
    "        curr_node = self.head\n",
    "        while curr_node is not None:\n",
    "            if curr_node.data == data:\n",
    "                return curr_node\n",
    "            else:\n",
    "                curr_node = curr_node.next_\n",
    "        return"
   ]
  },
  {
   "cell_type": "code",
   "execution_count": 11,
   "metadata": {
    "collapsed": true
   },
   "outputs": [],
   "source": [
    "#### Let's create another LinkedList here\n",
    "lst_1=LinkedList()\n",
    "for i in [1, 2, 3, 4, 5, 6]:\n",
    "    lst_1.append(i)"
   ]
  },
  {
   "cell_type": "code",
   "execution_count": 12,
   "metadata": {
    "collapsed": false
   },
   "outputs": [
    {
     "name": "stdout",
     "output_type": "stream",
     "text": [
      "[1, 2, 3, 4, 5, 6]\n"
     ]
    }
   ],
   "source": [
    "#### Test on the __str__ function\n",
    "print lst_1"
   ]
  },
  {
   "cell_type": "code",
   "execution_count": 13,
   "metadata": {
    "collapsed": false
   },
   "outputs": [
    {
     "name": "stdout",
     "output_type": "stream",
     "text": [
      "[1, 2, 3, 4, 5, 6, 7]\n"
     ]
    }
   ],
   "source": [
    "#### Test on the append function\n",
    "lst_1.append(7)\n",
    "print lst_1"
   ]
  },
  {
   "cell_type": "code",
   "execution_count": 14,
   "metadata": {
    "collapsed": false
   },
   "outputs": [
    {
     "name": "stdout",
     "output_type": "stream",
     "text": [
      "3\n"
     ]
    }
   ],
   "source": [
    "#### Test on the find function; What does the function return to us?\n",
    "print lst_1.find(3)"
   ]
  },
  {
   "cell_type": "code",
   "execution_count": 16,
   "metadata": {
    "collapsed": false
   },
   "outputs": [
    {
     "name": "stdout",
     "output_type": "stream",
     "text": [
      "[8, 1, 2, 3, 4, 5, 6, 7]\n"
     ]
    }
   ],
   "source": [
    "lst_1.insert_to_front(8)\n",
    "print lst_1"
   ]
  },
  {
   "cell_type": "code",
   "execution_count": null,
   "metadata": {
    "collapsed": true
   },
   "outputs": [],
   "source": []
  }
 ],
 "metadata": {
  "kernelspec": {
   "display_name": "Python 2",
   "language": "python",
   "name": "python2"
  },
  "language_info": {
   "codemirror_mode": {
    "name": "ipython",
    "version": 2
   },
   "file_extension": ".py",
   "mimetype": "text/x-python",
   "name": "python",
   "nbconvert_exporter": "python",
   "pygments_lexer": "ipython2",
   "version": "2.7.11"
  }
 },
 "nbformat": 4,
 "nbformat_minor": 0
}
