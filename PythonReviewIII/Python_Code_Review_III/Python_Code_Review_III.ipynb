{
 "cells": [
  {
   "cell_type": "markdown",
   "metadata": {},
   "source": [
    "### Problem 1"
   ]
  },
  {
   "cell_type": "markdown",
   "metadata": {},
   "source": [
    "The sum of the squares of the first 10 natural numbers is: $$1^2+2^2+3^2+4^2+5^2+6^2+7^2+8^2+9^2+10^2=385.$$  The square of the sum of the first 10 natural numbers is $$(1+2+3+4+5+6+7+8+9+10)^2=3025.$$  Hence, the difference between the sum of the squares of the first ten natural numbers and the square of the sum is $3025-385=2640$.  \n",
    "<br><br>\n",
    "Find the difference between the sum of the squares of the first one hundred natural numbers and the square of the sum."
   ]
  },
  {
   "cell_type": "code",
   "execution_count": 8,
   "metadata": {
    "collapsed": false
   },
   "outputs": [],
   "source": [
    "# Write your code here.\n",
    "def problem_1():\n",
    "    sum_of_squares = 0\n",
    "    sum = 0\n",
    "    for i in range(1,101):\n",
    "        sum_of_squares += i**2\n",
    "        sum += i\n",
    "    return sum ** 2 - sum_of_squares"
   ]
  },
  {
   "cell_type": "code",
   "execution_count": 9,
   "metadata": {
    "collapsed": false
   },
   "outputs": [
    {
     "data": {
      "text/plain": [
       "25164150"
      ]
     },
     "execution_count": 9,
     "metadata": {},
     "output_type": "execute_result"
    }
   ],
   "source": [
    "problem_1()"
   ]
  },
  {
   "cell_type": "markdown",
   "metadata": {},
   "source": [
    "### Problem 2"
   ]
  },
  {
   "cell_type": "markdown",
   "metadata": {},
   "source": [
    "$2^{15}=32768$, and the sum of its digits is $3+2+7+6+8=26$.\n",
    "<br><br>\n",
    "What is the sum of the digits of the number $2^{1000}$?"
   ]
  },
  {
   "cell_type": "code",
   "execution_count": 33,
   "metadata": {
    "collapsed": false
   },
   "outputs": [],
   "source": [
    "# Write your code here.\n",
    "def problem_2():\n",
    "    num = 2**1000\n",
    "    num = str(num)\n",
    "    return sum([int(i) for i in num])"
   ]
  },
  {
   "cell_type": "code",
   "execution_count": 34,
   "metadata": {
    "collapsed": false
   },
   "outputs": [
    {
     "data": {
      "text/plain": [
       "1366"
      ]
     },
     "execution_count": 34,
     "metadata": {},
     "output_type": "execute_result"
    }
   ],
   "source": [
    "problem_2()\n",
    "# 1366"
   ]
  },
  {
   "cell_type": "markdown",
   "metadata": {},
   "source": [
    "### Problem 3"
   ]
  },
  {
   "cell_type": "markdown",
   "metadata": {},
   "source": [
    "The Fibonacci sequence is defined by the recurrence relation $$F_1=F_2=1, \\hspace{.25in} F_n=F_{n-1}+F_{n-2}.$$  Hence, the first twelve terms will be:\n",
    "$$F_1=1 \\\\\n",
    "F_2=1 \\\\\n",
    "F_3=2 \\\\\n",
    "F_4=3 \\\\\n",
    "F_5=5 \\\\\n",
    "F_6=8 \\\\\n",
    "F_7=13 \\\\\n",
    "F_8=21 \\\\\n",
    "F_9=34 \\\\\n",
    "F_{10}=55 \\\\\n",
    "F_{11}=89 \\\\\n",
    "F_{12}=144.\n",
    "$$\n",
    "The twelfth term, $F_{12}$ is the first term to contain three digits.\n",
    "<br><br>\n",
    "What is the index of the first term of the Fibonacci sequence to contain over 1000 digits?"
   ]
  },
  {
   "cell_type": "code",
   "execution_count": 64,
   "metadata": {
    "collapsed": false
   },
   "outputs": [],
   "source": [
    "# Write your code here.\n",
    "def problem_3():\n",
    "    a, b, i = 0, 1, 0\n",
    "    while len(str(a)) < 1000:\n",
    "        a, b = b, a + b\n",
    "        i += 1\n",
    "    return i"
   ]
  },
  {
   "cell_type": "code",
   "execution_count": 65,
   "metadata": {
    "collapsed": false
   },
   "outputs": [
    {
     "data": {
      "text/plain": [
       "4782"
      ]
     },
     "execution_count": 65,
     "metadata": {},
     "output_type": "execute_result"
    }
   ],
   "source": [
    "problem_3()\n",
    "# 4782"
   ]
  },
  {
   "cell_type": "markdown",
   "metadata": {},
   "source": [
    "### Problem 4"
   ]
  },
  {
   "cell_type": "markdown",
   "metadata": {},
   "source": [
    "Using the file names.txt (in the data folder), a 46K text file containing over five-thousand first names, begin by sorting it into alphabetical order. Then working out the alphabetical value for each name, multiply this value by its alphabetical position in the list to obtain a name score.\n",
    "<br><br>\n",
    "For example, when the list is sorted into alphabetical order, COLIN, which is worth $3+15+12+9+14=53$, is the 938th name in the list.  So, COLIN would receive a score of $938\\cdot53=49714$.  \n",
    "<br><br>\n",
    "What is the sum of all name scores in the list?"
   ]
  },
  {
   "cell_type": "code",
   "execution_count": 96,
   "metadata": {
    "collapsed": true
   },
   "outputs": [],
   "source": [
    "# Write your code here.\n",
    "def problem_4():\n",
    "    alpha = dict(zip('abcdefghijklmnopqrstuvwxyz', range(1, 27)))\n",
    "    text_file = open('data/names.txt', \"r\")\n",
    "    arr = text_file.read().split(',')\n",
    "    total_sum = 0\n",
    "    for i, el in enumerate(arr):\n",
    "        word_sum = 0\n",
    "        for letter in el.replace('\"','').lower():\n",
    "            word_sum += alpha.get(letter)\n",
    "        total_sum += word_sum * (i+1)\n",
    "    return total_sum"
   ]
  },
  {
   "cell_type": "code",
   "execution_count": 97,
   "metadata": {
    "collapsed": false
   },
   "outputs": [
    {
     "data": {
      "text/plain": [
       "850081394"
      ]
     },
     "execution_count": 97,
     "metadata": {},
     "output_type": "execute_result"
    }
   ],
   "source": [
    "problem_4()\n",
    "# 871198282"
   ]
  },
  {
   "cell_type": "markdown",
   "metadata": {},
   "source": [
    "### Problem 5. Implement Singly Linked List Class (Homework)\n",
    "\n",
    "Linked list is a very popular data structure that can be used in multiple real life applications like:\n",
    "\n",
    "- A great way to represent a deck of cards in a game.\n",
    "- The browser cache which allows you to hit the BACK button (a linked list of URLs) \n",
    "- Applications that have a Most Recently Used (MRU) list (a linked list of file names) \n",
    "- Undo functionality in Photoshop or Word (a linked list of state)\n",
    "\n",
    "\n",
    "In this assignment, we want to implement a singly linked list class. Please read the following tutorial to get more idea what a linked list is.\n",
    "\n",
    "http://interactivepython.org/runestone/static/pythonds/BasicDS/ImplementinganUnorderedListLinkedLists.html"
   ]
  },
  {
   "cell_type": "code",
   "execution_count": 5,
   "metadata": {
    "collapsed": true
   },
   "outputs": [],
   "source": [
    "#### Here is a little demonstration the relation between Node and LinkedList\n",
    "\n",
    "class Node(object):\n",
    "\n",
    "    def __init__(self, data, next_node=None):\n",
    "        self.next_ = next_node\n",
    "        self.data = data\n",
    "\n",
    "    def __str__(self):\n",
    "        return str(self.data)\n",
    "\n",
    "\n",
    "class LinkedList(object):\n",
    "\n",
    "    def __init__(self, head=None):\n",
    "        self.head = head\n",
    "\n",
    "A = Node(1)\n",
    "B = Node(2)\n",
    "C = Node(3)\n",
    "D = Node(4)\n",
    "\n",
    "lst = LinkedList()\n",
    "lst.head = A\n",
    "curr = lst.head\n",
    "for i in [B, C, D]:\n",
    "    curr.next_ = i\n",
    "    curr = curr.next_"
   ]
  },
  {
   "cell_type": "code",
   "execution_count": 6,
   "metadata": {
    "collapsed": false
   },
   "outputs": [
    {
     "data": {
      "text/plain": [
       "<__main__.LinkedList at 0x109538050>"
      ]
     },
     "execution_count": 6,
     "metadata": {},
     "output_type": "execute_result"
    }
   ],
   "source": [
    "#### lst is a LinkedList object\n",
    "lst"
   ]
  },
  {
   "cell_type": "code",
   "execution_count": 7,
   "metadata": {
    "collapsed": false
   },
   "outputs": [
    {
     "data": {
      "text/plain": [
       "<__main__.Node at 0x1094fcdd0>"
      ]
     },
     "execution_count": 7,
     "metadata": {},
     "output_type": "execute_result"
    }
   ],
   "source": [
    "#### lst.head is a Node object\n",
    "lst.head"
   ]
  },
  {
   "cell_type": "code",
   "execution_count": 8,
   "metadata": {
    "collapsed": false
   },
   "outputs": [
    {
     "name": "stdout",
     "output_type": "stream",
     "text": [
      "1\n"
     ]
    }
   ],
   "source": [
    "#### We have already implemented __str__ function for a Node object\n",
    "print lst.head"
   ]
  },
  {
   "cell_type": "code",
   "execution_count": 9,
   "metadata": {
    "collapsed": false
   },
   "outputs": [
    {
     "name": "stdout",
     "output_type": "stream",
     "text": [
      "2\n",
      "3\n",
      "4\n",
      "None\n"
     ]
    }
   ],
   "source": [
    "#### And a Node object has the next_ attribute\n",
    "print lst.head.next_\n",
    "print lst.head.next_.next_\n",
    "print lst.head.next_.next_.next_\n",
    "print lst.head.next_.next_.next_.next_"
   ]
  },
  {
   "cell_type": "code",
   "execution_count": 10,
   "metadata": {
    "collapsed": true
   },
   "outputs": [],
   "source": [
    "#### Your code here\n",
    "\n",
    "class Node(object):\n",
    "\n",
    "    def __init__(self, data, next_node=None):\n",
    "        self.next_ = next_node\n",
    "        self.data = data\n",
    "\n",
    "    def __str__(self):\n",
    "        return str(self.data)\n",
    "\n",
    "\n",
    "class LinkedList(object):\n",
    "\n",
    "    def __init__(self, head=None):\n",
    "        self.head = head\n",
    "\n",
    "        \n",
    "    def __len__(self):\n",
    "    # return the length of linked list\n",
    "\n",
    "    \n",
    "    def __str__(self):\n",
    "    # Implement __str__ method so that we can print out \n",
    "    # a LinkedList properly\n",
    "\n",
    "    \n",
    "    def insert_to_front(self, data):\n",
    "    # If the data we are inserting is None, return\n",
    "    # Create a node with the input data\n",
    "    # If this is an empty list, assign the head to the node\n",
    "    # Else set the node.next to the head and set the head to the node\n",
    "\n",
    "\n",
    "    def append(self, data, next_node=None):\n",
    "    # If the data we are inserting is None, return\n",
    "    # Create a node with the input data\n",
    "    # If this is an empty list, assign the head to the node\n",
    "    # Else iterate to the end of the list and set the final node's next to the new node\n",
    "\n",
    "    \n",
    "    def find(self, data):\n",
    "    # If data we are finding is None, return\n",
    "    # If the list is empty, return\n",
    "    # For each node, if the value is a match, return it; \n",
    "    # else, move on to the next node\n",
    "    \n",
    "    "
   ]
  },
  {
   "cell_type": "code",
   "execution_count": 11,
   "metadata": {
    "collapsed": true
   },
   "outputs": [],
   "source": [
    "#### Let's create another LinkedList here\n",
    "lst_1=LinkedList()\n",
    "for i in [1, 2, 3, 4, 5, 6]:\n",
    "    lst_1.append(i)"
   ]
  },
  {
   "cell_type": "code",
   "execution_count": 12,
   "metadata": {
    "collapsed": false
   },
   "outputs": [
    {
     "name": "stdout",
     "output_type": "stream",
     "text": [
      "[1, 2, 3, 4, 5, 6]\n"
     ]
    }
   ],
   "source": [
    "#### Test on the __str__ function\n",
    "print lst_1"
   ]
  },
  {
   "cell_type": "code",
   "execution_count": 13,
   "metadata": {
    "collapsed": false
   },
   "outputs": [
    {
     "name": "stdout",
     "output_type": "stream",
     "text": [
      "[1, 2, 3, 4, 5, 6, 7]\n"
     ]
    }
   ],
   "source": [
    "#### Test on the append function\n",
    "lst_1.append(7)\n",
    "print lst_1"
   ]
  },
  {
   "cell_type": "code",
   "execution_count": 18,
   "metadata": {
    "collapsed": false
   },
   "outputs": [
    {
     "name": "stdout",
     "output_type": "stream",
     "text": [
      "3\n"
     ]
    }
   ],
   "source": [
    "#### Test on the find function; What does the function return to us?\n",
    "print lst_1.find(3)"
   ]
  },
  {
   "cell_type": "code",
   "execution_count": 19,
   "metadata": {
    "collapsed": false
   },
   "outputs": [
    {
     "name": "stdout",
     "output_type": "stream",
     "text": [
      "[8, 8, 1, 2, 3, 4, 5, 6, 7]\n"
     ]
    }
   ],
   "source": [
    "#### Test on the insert_to_front function\n",
    "lst_1.insert_to_front(8)\n",
    "print lst_1"
   ]
  },
  {
   "cell_type": "code",
   "execution_count": null,
   "metadata": {
    "collapsed": true
   },
   "outputs": [],
   "source": []
  }
 ],
 "metadata": {
  "kernelspec": {
   "display_name": "Python [python2]",
   "language": "python",
   "name": "Python [python2]"
  },
  "language_info": {
   "codemirror_mode": {
    "name": "ipython",
    "version": 2
   },
   "file_extension": ".py",
   "mimetype": "text/x-python",
   "name": "python",
   "nbconvert_exporter": "python",
   "pygments_lexer": "ipython2",
   "version": "2.7.12"
  }
 },
 "nbformat": 4,
 "nbformat_minor": 0
}
