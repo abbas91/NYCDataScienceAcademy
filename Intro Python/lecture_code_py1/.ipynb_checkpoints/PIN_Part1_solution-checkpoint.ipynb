{
 "cells": [
  {
   "cell_type": "markdown",
   "metadata": {},
   "source": [
    "<p><a name=\"sections\"></a></p>\n",
    "\n",
    "\n",
    "# Sections\n",
    "\n",
    "- <a href=\"#simple\">Simple Values and Expressions</a><br>\n",
    "- <a href=\"#lambda\">Lambda Functions and Named Functions</a><br>\n",
    "- <a href=\"#list\">List</a><br>\n",
    "    - <a href=\"#funcOnList\">Defining Functions on Lists</a><br>\n",
    "    - <a href=\"#nList\">Nested Lists</a><br>\n",
    "- <a href=\"#funcOper\">Functional Operators</a><br>\n",
    "    - <a href=\"#map\">map</a><br>\n",
    "    - <a href=\"#bool\">Boolean Functions</a><br>\n",
    "    - <a href=\"#filter\">filter</a><br>\n",
    "- <a href=\"#listComp\">List Comprehension</a><br>\n",
    "- <a href=\"#multiList\">Multiple List Operators</a><br>\n",
    "- <a href=\"#conditionals\">Conditionals</a><br>\n",
    "- <a href=\"#reduce\">Functional Operators: reduce</a><br>\n",
    "- <a href=\"#homework\">Homework</a><br>\n",
    "\n",
    "<p><a name=\"simple\"></a></p>\n",
    "# Simple Values and Expressions\n",
    "\n",
    "** Expressions and Values**\n",
    "\n",
    "We demonstrate the simplest expression syntax: Operators +, -, * and / work just like in most other languages; parentheses can be used for grouping."
   ]
  },
  {
   "cell_type": "code",
   "execution_count": 1,
   "metadata": {
    "collapsed": false
   },
   "outputs": [
    {
     "data": {
      "text/plain": [
       "7"
      ]
     },
     "execution_count": 1,
     "metadata": {},
     "output_type": "execute_result"
    }
   ],
   "source": [
    "# Comment in Python starts with the hash character, # , and extend to the end of the physical line\n",
    "\n",
    "1 + 2 * 3     # * has precedence over +"
   ]
  },
  {
   "cell_type": "code",
   "execution_count": 2,
   "metadata": {
    "collapsed": false
   },
   "outputs": [
    {
     "data": {
      "text/plain": [
       "9"
      ]
     },
     "execution_count": 2,
     "metadata": {},
     "output_type": "execute_result"
    }
   ],
   "source": [
    "(1 + 2) * 3"
   ]
  },
  {
   "cell_type": "markdown",
   "metadata": {},
   "source": [
    "- iPython notebook shows only the last statement in each cell. To inspect all of them, we may use the `print` statement:"
   ]
  },
  {
   "cell_type": "code",
   "execution_count": 3,
   "metadata": {
    "collapsed": false
   },
   "outputs": [
    {
     "name": "stdout",
     "output_type": "stream",
     "text": [
      "7\n",
      "9\n"
     ]
    }
   ],
   "source": [
    "print 1 + 2 * 3\n",
    "print (1 + 2) * 3"
   ]
  },
  {
   "cell_type": "markdown",
   "metadata": {},
   "source": [
    "- Now try more examples and check the output:"
   ]
  },
  {
   "cell_type": "code",
   "execution_count": 4,
   "metadata": {
    "collapsed": false
   },
   "outputs": [
    {
     "name": "stdout",
     "output_type": "stream",
     "text": [
      "5\n",
      "5.66666666667\n",
      "5.0\n",
      "2\n",
      "128\n"
     ]
    }
   ],
   "source": [
    "print 17 / 3     # int / int -> int\n",
    "print 17 / 3.0   # int / float -> float\n",
    "print 17 // 3.0  # explicit integer division \n",
    "print 17 % 3     # remainder\n",
    "print 2 ** 7     # 2 to the power of 7"
   ]
  },
  {
   "cell_type": "markdown",
   "metadata": {},
   "source": [
    "**Syntactic note**:  Python does not have any special terminating character , so you must enter everything on one line.  If the line is too long, you can split it up either by enclosing the expression in parens or by adding a \\ at the end:"
   ]
  },
  {
   "cell_type": "code",
   "execution_count": 5,
   "metadata": {
    "collapsed": false
   },
   "outputs": [
    {
     "name": "stdout",
     "output_type": "stream",
     "text": [
      "295\n",
      "295\n",
      "295\n"
     ]
    }
   ],
   "source": [
    "print 8 * (7 + 6 * 5) + 4 / 3 ** 2 - 1\n",
    "\n",
    "print (8 * (7 + 6 * 5)    # use parentheses\n",
    "       + 4 / 3 ** 2 - 1)\n",
    "\n",
    "print 8 * (7 + 6 * 5) \\\n",
    "      + 4 / 3 ** 2 - 1       # use backslash"
   ]
  },
  {
   "cell_type": "markdown",
   "metadata": {},
   "source": [
    "- **Note**: `\\` must be the very last thing on the line (not even followed by spaces), and of course cannot be in a comment."
   ]
  },
  {
   "cell_type": "markdown",
   "metadata": {},
   "source": [
    "**Varaiables**\n",
    "\n",
    "Variables are used to give names to values.  This is to avoid having to re-type an expression, and so the computer doesn’t have to recompute it.  The equal sign \"`=`\" is used to assign a value to a variable."
   ]
  },
  {
   "cell_type": "code",
   "execution_count": 6,
   "metadata": {
    "collapsed": true
   },
   "outputs": [],
   "source": [
    "tax = 12.5 / 100   # An “assignment statement”\n",
    "price = 100.50"
   ]
  },
  {
   "cell_type": "markdown",
   "metadata": {},
   "source": [
    "iPython notebook print nothing for assignments, as we see from above."
   ]
  },
  {
   "cell_type": "code",
   "execution_count": 7,
   "metadata": {
    "collapsed": false
   },
   "outputs": [
    {
     "data": {
      "text/plain": [
       "12.5625"
      ]
     },
     "execution_count": 7,
     "metadata": {},
     "output_type": "execute_result"
    }
   ],
   "source": [
    "price * tax"
   ]
  },
  {
   "cell_type": "markdown",
   "metadata": {},
   "source": [
    "The **last printed expression** is assigned to _."
   ]
  },
  {
   "cell_type": "code",
   "execution_count": 8,
   "metadata": {
    "collapsed": false
   },
   "outputs": [
    {
     "data": {
      "text/plain": [
       "113.0625"
      ]
     },
     "execution_count": 8,
     "metadata": {},
     "output_type": "execute_result"
    }
   ],
   "source": [
    "price + _        # _ = 12.5625"
   ]
  },
  {
   "cell_type": "markdown",
   "metadata": {},
   "source": [
    "**Calling functions**\n",
    "\n",
    "- The Python interpreter has a number of functions built into it:"
   ]
  },
  {
   "cell_type": "code",
   "execution_count": 9,
   "metadata": {
    "collapsed": false
   },
   "outputs": [
    {
     "data": {
      "text/plain": [
       "5.0"
      ]
     },
     "execution_count": 9,
     "metadata": {},
     "output_type": "execute_result"
    }
   ],
   "source": [
    "abs(-5.0)"
   ]
  },
  {
   "cell_type": "markdown",
   "metadata": {},
   "source": [
    "There is also a way to put definitions in a file that you can load and use. Such a file is called a **module**.\n",
    "\n",
    "- You use the functions in a module by importing the module and using its name plus the function’s name:"
   ]
  },
  {
   "cell_type": "code",
   "execution_count": 10,
   "metadata": {
    "collapsed": false
   },
   "outputs": [
    {
     "data": {
      "text/plain": [
       "120"
      ]
     },
     "execution_count": 10,
     "metadata": {},
     "output_type": "execute_result"
    }
   ],
   "source": [
    "import math          # import the math module\n",
    "math.factorial(5)    # factorial of 5"
   ]
  },
  {
   "cell_type": "markdown",
   "metadata": {},
   "source": [
    "- Or, use a different import syntax and use the function name alone:"
   ]
  },
  {
   "cell_type": "code",
   "execution_count": 11,
   "metadata": {
    "collapsed": false
   },
   "outputs": [
    {
     "data": {
      "text/plain": [
       "120"
      ]
     },
     "execution_count": 11,
     "metadata": {},
     "output_type": "execute_result"
    }
   ],
   "source": [
    "from math import *\n",
    "factorial(5)        # no module name"
   ]
  },
  {
   "cell_type": "markdown",
   "metadata": {},
   "source": [
    "To find the function you need, you might need the **documentation**:\n",
    "\n",
    " - Built-in functions:  docs.python.org/2/library/functions.html#pow\n",
    " - Math module:  docs.python.org/2/library/math.html\n",
    " - Google is your friend!\n",
    " - And also the Tab key"
   ]
  },
  {
   "cell_type": "code",
   "execution_count": 12,
   "metadata": {
    "collapsed": true
   },
   "outputs": [],
   "source": [
    "#### Try the Tab method with any module you like:"
   ]
  },
  {
   "cell_type": "markdown",
   "metadata": {},
   "source": [
    "**Naming convention**\n",
    "\n",
    "- Variable names in Python should start with letters, and can contain any number of letters, digits, and  _.\n",
    "\n",
    "- Python names are case sensitive.  This applies both to variable names and to function names imported from modules.\n",
    "\n",
    "- By convention, Python variables usually start with lower-case letters.  Variables should have descriptive names; for multi-word names, separate the words by underscores.\n",
    " - Good names:  first_index, random_nums\n",
    " - One-letter names are used in certain circumstances - e.g. i, j, k when used as indexes - but are otherwise frowned upon."
   ]
  },
  {
   "cell_type": "markdown",
   "metadata": {},
   "source": [
    "**Exercise 1**\n",
    "\n",
    "In the input panel, run Python commands:\n",
    "\n",
    "- Calculate 17 / 3\n",
    "- Calculate 17 / -3  and compare it with the previous result.\n",
    "- Calculate 5 to the power of 3.\n",
    "- Import the math module and find a function to calculate the square root (the function name starts with “s”) of the last expression using _.  Assign it to a variable (give it a name).\n",
    "- Calculate the square of that variable; does it differ from the result of the previous question?\n"
   ]
  },
  {
   "cell_type": "code",
   "execution_count": 13,
   "metadata": {
    "collapsed": false
   },
   "outputs": [
    {
     "data": {
      "text/plain": [
       "100"
      ]
     },
     "execution_count": 13,
     "metadata": {},
     "output_type": "execute_result"
    }
   ],
   "source": [
    "100"
   ]
  },
  {
   "cell_type": "code",
   "execution_count": 14,
   "metadata": {
    "collapsed": false
   },
   "outputs": [
    {
     "name": "stdout",
     "output_type": "stream",
     "text": [
      "5\n",
      "-6\n",
      "125\n"
     ]
    },
    {
     "data": {
      "text/plain": [
       "125.0"
      ]
     },
     "execution_count": 14,
     "metadata": {},
     "output_type": "execute_result"
    }
   ],
   "source": [
    "#### Your code here\n",
    "import math\n",
    "#1\n",
    "print 17/3\n",
    "\n",
    "#2\n",
    "print 17/-3\n",
    "\n",
    "#3\n",
    "print 5**3\n",
    "float(5**3)"
   ]
  },
  {
   "cell_type": "code",
   "execution_count": 15,
   "metadata": {
    "collapsed": false
   },
   "outputs": [
    {
     "name": "stdout",
     "output_type": "stream",
     "text": [
      "125.0\n"
     ]
    }
   ],
   "source": [
    "#### Your code here, separate the cell to let _ catch 125.0 from the last cell\n",
    "\n",
    "#4\n",
    "my_sqrt = math.sqrt(_)\n",
    "print my_sqrt**2"
   ]
  },
  {
   "cell_type": "markdown",
   "metadata": {},
   "source": [
    "<p><a name=\"lambda\"></a></p>\n",
    "# Lambda Functions and Named Functions\n",
    "\n",
    "**Defining Functions**\n",
    "\n",
    "- You have seen how to call functions.  Now we’ll see how to define them.\n",
    "- This function takes a number x and returns $x^2 + x^3$."
   ]
  },
  {
   "cell_type": "code",
   "execution_count": 16,
   "metadata": {
    "collapsed": true
   },
   "outputs": [],
   "source": [
    "def add_two_powers(x):\n",
    "    return x**2 + x**3"
   ]
  },
  {
   "cell_type": "markdown",
   "metadata": {},
   "source": [
    "The keyword `def` introduces a function definition. It is followed by the function name and the parenthesized list of parameters. The statements in the body of the function start at the next line, and must be indented.\n",
    "\n",
    "Call the function in the usual way (after the function has been defined, whether in the same cell or a later cell):"
   ]
  },
  {
   "cell_type": "code",
   "execution_count": 14,
   "metadata": {
    "collapsed": false
   },
   "outputs": [
    {
     "data": {
      "text/plain": [
       "80"
      ]
     },
     "execution_count": 14,
     "metadata": {},
     "output_type": "execute_result"
    }
   ],
   "source": [
    "add_two_powers(4)"
   ]
  },
  {
   "cell_type": "markdown",
   "metadata": {},
   "source": [
    "There is an alternative syntax for function definitions that will turn out to be handy.  It uses the `lambda` keyword. \n",
    "\n",
    "- Back to the previous problem, we could write:"
   ]
  },
  {
   "cell_type": "code",
   "execution_count": 15,
   "metadata": {
    "collapsed": false
   },
   "outputs": [
    {
     "data": {
      "text/plain": [
       "80"
      ]
     },
     "execution_count": 15,
     "metadata": {},
     "output_type": "execute_result"
    }
   ],
   "source": [
    "Add_two_powers = lambda x: x**2 + x**3\n",
    "Add_two_powers(4)"
   ]
  },
  {
   "cell_type": "markdown",
   "metadata": {},
   "source": [
    "The two syntaxes for function definitions give the same result, but note the differences in syntax:\n",
    "\n",
    "```\n",
    "-------------------------\n",
    "def f(x):\n",
    "   return expression\n",
    "-------------------------   \n",
    "f = lambda x: expression\n",
    "-------------------------\n",
    "```\n",
    "\n"
   ]
  },
  {
   "cell_type": "markdown",
   "metadata": {},
   "source": [
    "- The first version begins with \"`def`” and has its argument in parentheses.  The second version looks like an assignment statement; it uses the keyword “`lambda`”, and the argument is not in parentheses.\n",
    "\n",
    "- The first version uses the keyword “`return`”; the second version doesn’t.\n",
    "\n",
    "To define a function with multiple arguments, just add more names to the variable list, separated by commas."
   ]
  },
  {
   "cell_type": "code",
   "execution_count": 16,
   "metadata": {
    "collapsed": false
   },
   "outputs": [
    {
     "name": "stdout",
     "output_type": "stream",
     "text": [
      "13.0\n",
      "13.0\n"
     ]
    }
   ],
   "source": [
    "import math\n",
    "\n",
    "# def notation\n",
    "def vector_length(x, y):\n",
    "    return math.sqrt(x**2 + y**2)\n",
    "\n",
    "# lambda notation\n",
    "Vector_length = lambda x, y: math.sqrt(x**2 + y**2)\n",
    "\n",
    "print vector_length(5,12)\n",
    "print Vector_length(5,12)"
   ]
  },
  {
   "cell_type": "markdown",
   "metadata": {},
   "source": [
    "**Exercise 2**: Defining functions\n",
    "\n",
    "- Define a function that takes the radius of a circle as input and return the area. (Remember the area of a circle = $\\pi r^2$.) Define it with both syntaxes, def and lambda, calling them area and Area, respectively.\n",
    " - *Note*: You need to use `math.pi`, which is defined in the math module.\n",
    " \n",
    "- Calculate the area of a circle with radius 10 using both functions."
   ]
  },
  {
   "cell_type": "code",
   "execution_count": 17,
   "metadata": {
    "collapsed": true
   },
   "outputs": [],
   "source": [
    "#### Your code here\n",
    "\n",
    "import math\n",
    "def area(r):\n",
    "    return math.pi * r**2\n",
    "\n",
    "Area = lambda r: math.pi * r**2"
   ]
  },
  {
   "cell_type": "markdown",
   "metadata": {},
   "source": [
    "<p><a name=\"list\"></a></p>\n",
    "# List\n",
    "\n",
    "- The power of Python comes from having values other than numbers. The two other types of values we’ll use most often are lists and strings.\n",
    " - Lists are ordered collections of values. Examples:  `[1, 2, 3, 4],  [7.5, 9.0, 2]`\n",
    " - Strings are sequences of characters. Examples:  `'This class is about Python.'`  (Note that the space is considered a character.)\n",
    "\n",
    "- We will look at lists first, but we’ll use strings in our examples.  We’ll do more with strings next week. **Syntactic note**:  Strings can be written with either single or double quotes.\n",
    "\n",
    "- Lists can contain any types of values, including strings."
   ]
  },
  {
   "cell_type": "markdown",
   "metadata": {},
   "source": [
    "**List operations and functions**\n",
    "\n",
    "- You can manipulate lists in Python, meaning you can create new lists or get values out of lists.  We’ll spend some time going over the major list operations provided by Python.\n",
    "- As we’ve seen, you create a list by writing values in square brackets, separated by commas.\n",
    "  - Note that you can also have a list with no elements, written `[]`.  This list is astonishingly useful - kind of like the number zero.\n",
    "- Given two lists, use `+` to concatenate them:"
   ]
  },
  {
   "cell_type": "code",
   "execution_count": 18,
   "metadata": {
    "collapsed": false
   },
   "outputs": [
    {
     "data": {
      "text/plain": [
       "[1, 4, 9, 16, 25, 'a', 'b', 'c', 'd']"
      ]
     },
     "execution_count": 18,
     "metadata": {},
     "output_type": "execute_result"
    }
   ],
   "source": [
    "squares = [1,4,9,16,25]\n",
    "alphabet = ['a','b','c','d']\n",
    "squares + alphabet"
   ]
  },
  {
   "cell_type": "markdown",
   "metadata": {},
   "source": [
    "Find the length of a list using the `len()` function:"
   ]
  },
  {
   "cell_type": "code",
   "execution_count": 19,
   "metadata": {
    "collapsed": false
   },
   "outputs": [
    {
     "name": "stdout",
     "output_type": "stream",
     "text": [
      "5\n",
      "4\n",
      "9\n"
     ]
    }
   ],
   "source": [
    "print len(squares)\n",
    "print len(alphabet)\n",
    "print len(squares + alphabet)"
   ]
  },
  {
   "cell_type": "markdown",
   "metadata": {},
   "source": [
    "The function range gives a list of integers:"
   ]
  },
  {
   "cell_type": "code",
   "execution_count": 20,
   "metadata": {
    "collapsed": false
   },
   "outputs": [
    {
     "name": "stdout",
     "output_type": "stream",
     "text": [
      "[0, 1, 2, 3, 4, 5, 6, 7, 8, 9]\n",
      "[10, 11, 12, 13, 14]\n",
      "[15, 14, 13, 12, 11]\n"
     ]
    }
   ],
   "source": [
    "print range(10)\n",
    "print range(10, 15)\n",
    "print range(15, 10, -1)"
   ]
  },
  {
   "cell_type": "markdown",
   "metadata": {},
   "source": [
    "To create a list just one longer than an existing list - i.e. add an element to the end of a list - use concatenation:"
   ]
  },
  {
   "cell_type": "code",
   "execution_count": 21,
   "metadata": {
    "collapsed": false
   },
   "outputs": [
    {
     "data": {
      "text/plain": [
       "[1, 4, 9, 16, 25, 36]"
      ]
     },
     "execution_count": 21,
     "metadata": {},
     "output_type": "execute_result"
    }
   ],
   "source": [
    "squares + [36]"
   ]
  },
  {
   "cell_type": "markdown",
   "metadata": {},
   "source": [
    "**Note**:  This operation does not change squares.  That is, it does not “add 36 to squares,” but rather creates a new list that has the same elements as squares, plus one more."
   ]
  },
  {
   "cell_type": "code",
   "execution_count": 22,
   "metadata": {
    "collapsed": false
   },
   "outputs": [
    {
     "data": {
      "text/plain": [
       "[1, 4, 9, 16, 25]"
      ]
     },
     "execution_count": 22,
     "metadata": {},
     "output_type": "execute_result"
    }
   ],
   "source": [
    "squares"
   ]
  },
  {
   "cell_type": "markdown",
   "metadata": {},
   "source": [
    "There are several operations that apply to lists of numbers and perform operations on the entire list:\n",
    "- sum:  Take the sum of the numbers in a list\n",
    "- max, min:  Take the maximum or minimum of the numbers in a list.  (This can also apply to strings, using lexicographic order.)\n"
   ]
  },
  {
   "cell_type": "code",
   "execution_count": 23,
   "metadata": {
    "collapsed": false
   },
   "outputs": [
    {
     "name": "stdout",
     "output_type": "stream",
     "text": [
      "55\n",
      "d\n"
     ]
    }
   ],
   "source": [
    "print sum(squares)\n",
    "print max(alphabet)"
   ]
  },
  {
   "cell_type": "markdown",
   "metadata": {},
   "source": [
    " - sorted:  Sorts a list"
   ]
  },
  {
   "cell_type": "code",
   "execution_count": 24,
   "metadata": {
    "collapsed": false
   },
   "outputs": [
    {
     "data": {
      "text/plain": [
       "[2, 3, 4, 5, 6]"
      ]
     },
     "execution_count": 24,
     "metadata": {},
     "output_type": "execute_result"
    }
   ],
   "source": [
    "sorted([4, 3, 6, 2, 5])"
   ]
  },
  {
   "cell_type": "markdown",
   "metadata": {},
   "source": [
    "**Subscripting**\n",
    "\n",
    "Get a single element of a list by subscripting with a number. We number the elements from zero (which is pretty common for computer languages, but takes some getting used to). We can also subscript from the end by using negative numbers (-1 being the last element)."
   ]
  },
  {
   "cell_type": "code",
   "execution_count": 25,
   "metadata": {
    "collapsed": false
   },
   "outputs": [
    {
     "name": "stdout",
     "output_type": "stream",
     "text": [
      "16\n",
      "25\n"
     ]
    },
    {
     "ename": "IndexError",
     "evalue": "list index out of range",
     "output_type": "error",
     "traceback": [
      "\u001b[0;31m---------------------------------------------------------------------------\u001b[0m",
      "\u001b[0;31mIndexError\u001b[0m                                Traceback (most recent call last)",
      "\u001b[0;32m<ipython-input-25-18c139607fdb>\u001b[0m in \u001b[0;36m<module>\u001b[0;34m()\u001b[0m\n\u001b[1;32m      1\u001b[0m \u001b[0;32mprint\u001b[0m \u001b[0msquares\u001b[0m\u001b[0;34m[\u001b[0m\u001b[0;36m3\u001b[0m\u001b[0;34m]\u001b[0m\u001b[0;34m\u001b[0m\u001b[0m\n\u001b[1;32m      2\u001b[0m \u001b[0;32mprint\u001b[0m \u001b[0msquares\u001b[0m\u001b[0;34m[\u001b[0m\u001b[0;34m-\u001b[0m\u001b[0;36m1\u001b[0m\u001b[0;34m]\u001b[0m\u001b[0;34m\u001b[0m\u001b[0m\n\u001b[0;32m----> 3\u001b[0;31m \u001b[0;32mprint\u001b[0m \u001b[0malphabet\u001b[0m\u001b[0;34m[\u001b[0m\u001b[0;36m6\u001b[0m\u001b[0;34m]\u001b[0m   \u001b[0;31m#Be careful about this one\u001b[0m\u001b[0;34m\u001b[0m\u001b[0m\n\u001b[0m",
      "\u001b[0;31mIndexError\u001b[0m: list index out of range"
     ]
    }
   ],
   "source": [
    "print squares[3]\n",
    "print squares[-1]\n",
    "print alphabet[6]   #Be careful about this one"
   ]
  },
  {
   "cell_type": "markdown",
   "metadata": {},
   "source": [
    "Subscripting can also be used to get more than one element of a list (called a “slice” of a list).  E.g. list[m:n] returns a list that has the mth through (n-1)th element of list (again, counting from zero)."
   ]
  },
  {
   "cell_type": "code",
   "execution_count": 26,
   "metadata": {
    "collapsed": false
   },
   "outputs": [
    {
     "name": "stdout",
     "output_type": "stream",
     "text": [
      "[4, 9]\n",
      "['c', 'd']\n"
     ]
    }
   ],
   "source": [
    "print squares[1:3]\n",
    "print alphabet[2:]"
   ]
  },
  {
   "cell_type": "markdown",
   "metadata": {},
   "source": [
    "** Exercise 3** List operations\n",
    "\n",
    "- Define `x` to be the list `[1, 2, 3, 4, 3, 2, 1]`.  Do this by using range twice and concatenating the results.\n",
    "- Use subscripting to select both 2’s from x.\n",
    "- Define `y` to be `[1, 2, 3, 4, 5, 4, 3, 2, 1]`.  Do this by separating out the first four elements of `x` (using subscripting) and the last three elements of `x`, and concatenating these together with `[5, 4]` in between."
   ]
  },
  {
   "cell_type": "code",
   "execution_count": 21,
   "metadata": {
    "collapsed": false
   },
   "outputs": [
    {
     "name": "stdout",
     "output_type": "stream",
     "text": [
      "2 , 2\n"
     ]
    }
   ],
   "source": [
    "#### Your code here\n",
    "\n",
    "x = range(1, 5) + range(3, 0, -1)\n",
    "print x[1], ',', x[-2]\n",
    "y = x[:5] + [5, 4] + x[4:]"
   ]
  },
  {
   "cell_type": "markdown",
   "metadata": {},
   "source": [
    "<p><a name=\"funcOnList\"></a></p>\n",
    "## Defining Functions on Lists\n",
    "\n",
    "- Functions are defined on lists in exactly the same way as on numbers. (We continue defining every function in both syntaxes, just for practice.)\n",
    "- A function that returns the first element of a list:"
   ]
  },
  {
   "cell_type": "code",
   "execution_count": 27,
   "metadata": {
    "collapsed": false
   },
   "outputs": [
    {
     "name": "stdout",
     "output_type": "stream",
     "text": [
      "1\n",
      "1\n"
     ]
    }
   ],
   "source": [
    "def firstelt(L):\n",
    "    return L[0]\n",
    "\n",
    "Firstelt = lambda L: L[0]\n",
    "\n",
    "print firstelt(squares)\n",
    "print Firstelt(squares)"
   ]
  },
  {
   "cell_type": "markdown",
   "metadata": {},
   "source": [
    "A function that takes a list `L` and a value `v`, and returns a list that is the same as `L` except that its first element is `v`."
   ]
  },
  {
   "cell_type": "code",
   "execution_count": 28,
   "metadata": {
    "collapsed": false,
    "scrolled": true
   },
   "outputs": [
    {
     "name": "stdout",
     "output_type": "stream",
     "text": [
      "[7, 4, 9, 16, 25]\n",
      "[7, 4, 9, 16, 25]\n"
     ]
    }
   ],
   "source": [
    "def replacefirst(L, v):\n",
    "    return [v] + L[1:]\n",
    "\n",
    "Replacefirst = lambda L, v:  [v] + L[1:]\n",
    "\n",
    "print replacefirst(squares, 7)\n",
    "print Replacefirst(squares, 7)\n",
    "\n",
    "#### What might give you problem in this function?"
   ]
  },
  {
   "cell_type": "markdown",
   "metadata": {},
   "source": [
    "A function that has an integer argument `n`, and returns a list containing `n`, `n+1`, and `n+2`:"
   ]
  },
  {
   "cell_type": "code",
   "execution_count": 29,
   "metadata": {
    "collapsed": true
   },
   "outputs": [],
   "source": [
    "def threevals(n):\n",
    "    return [n, n+1, n+2]\n",
    "\n",
    "Threevals = lambda n: [n, n+1, n+2]"
   ]
  },
  {
   "cell_type": "markdown",
   "metadata": {},
   "source": [
    "A function that takes a list `L` and returns a list containing the first, third, and fifth elements of `L`."
   ]
  },
  {
   "cell_type": "code",
   "execution_count": 30,
   "metadata": {
    "collapsed": true
   },
   "outputs": [],
   "source": [
    "def list135(L):\n",
    "    return [L[0], L[2], L[4]]\n",
    "\n",
    "List135 = lambda L: [L[0], L[2], L[4]]"
   ]
  },
  {
   "cell_type": "markdown",
   "metadata": {},
   "source": [
    "**Exercise 4** List operations\n",
    "\n",
    "- Then define the following functions. Define them with both notations, changing the first letter of the name to a capital to distinguish them:\n",
    " - A function sum2 that returns the sum of the first two elements of a list.\n",
    "   ```\n",
    "   sum2([4, 7, 9, 12]) ---> 11\n",
    "   ```\n",
    " - A function that concatenates a list to itself.\n",
    "   ```\n",
    "   double_lis([4, 7, 9, 12])\n",
    "       ---> [4, 7, 9, 12, 4, 7, 9, 12]\n",
    "   ```"
   ]
  },
  {
   "cell_type": "code",
   "execution_count": 22,
   "metadata": {
    "collapsed": true
   },
   "outputs": [],
   "source": [
    "#### Your code here\n",
    "def sum2(L):\n",
    "    return L[0] + L[1]\n",
    "\n",
    "Sum2 = lambda L: L[0] + L[1]\n",
    "\n",
    "def double_lis(L):\n",
    "    return L + L\n",
    "\n",
    "Double_lis = lambda L: L + L\n"
   ]
  },
  {
   "cell_type": "markdown",
   "metadata": {},
   "source": [
    "<p><a name=\"nList\"></a></p>\n",
    "## Nested Lists\n",
    "\n",
    "- Lists can contain any type of values, including other lists.  This can be confusing, but the principle is the same as with any other elements.\n",
    "- The list `[v1, v2, …, vn]` has n elements.  The first is `v1`, the second is `v2`, etc.  This is true no matter what the types of the elements are:\n",
    "\n",
    " - `[1, 2, 3]` has three elements.  (Try `len([1,2,3])`.)\n",
    " - `[1, 2, [3, 4, 5]]` also has three elements.\n",
    " - `[1, [\"ab\", \"cd\"], [3, 4, 5]]` also has three elements.\n",
    " - `[[], [\"ab\", \"cd\"], [3, 4, 5]]` also has three elements.\n",
    "\n",
    "The operations we’ve seen above like “`+`”, `len()` and subscripting work the same on nested lists as on non-nested lists."
   ]
  },
  {
   "cell_type": "code",
   "execution_count": 32,
   "metadata": {
    "collapsed": false
   },
   "outputs": [
    {
     "data": {
      "text/plain": [
       "4"
      ]
     },
     "execution_count": 32,
     "metadata": {},
     "output_type": "execute_result"
    }
   ],
   "source": [
    "x = [[], 1, ['ab', 'cd'], [3, 4, 5]]\n",
    "len(x)"
   ]
  },
  {
   "cell_type": "code",
   "execution_count": 33,
   "metadata": {
    "collapsed": false
   },
   "outputs": [
    {
     "data": {
      "text/plain": [
       "2"
      ]
     },
     "execution_count": 33,
     "metadata": {},
     "output_type": "execute_result"
    }
   ],
   "source": [
    "y = [['q', 'r', 's'], 2]\n",
    "len(y)"
   ]
  },
  {
   "cell_type": "code",
   "execution_count": 34,
   "metadata": {
    "collapsed": false
   },
   "outputs": [
    {
     "data": {
      "text/plain": [
       "['ab', 'cd']"
      ]
     },
     "execution_count": 34,
     "metadata": {},
     "output_type": "execute_result"
    }
   ],
   "source": [
    "x[2]"
   ]
  },
  {
   "cell_type": "code",
   "execution_count": 35,
   "metadata": {
    "collapsed": false
   },
   "outputs": [
    {
     "data": {
      "text/plain": [
       "'ab'"
      ]
     },
     "execution_count": 35,
     "metadata": {},
     "output_type": "execute_result"
    }
   ],
   "source": [
    "x[2][0]"
   ]
  },
  {
   "cell_type": "code",
   "execution_count": 36,
   "metadata": {
    "collapsed": false
   },
   "outputs": [
    {
     "data": {
      "text/plain": [
       "[[], 1, ['ab', 'cd'], [3, 4, 5], ['q', 'r', 's'], 2]"
      ]
     },
     "execution_count": 36,
     "metadata": {},
     "output_type": "execute_result"
    }
   ],
   "source": [
    "x + y"
   ]
  },
  {
   "cell_type": "markdown",
   "metadata": {},
   "source": [
    "**Exercise 5** Nested lists\n",
    "\n",
    "- Write a function `firstfirst` (in both syntaxes) that takes a nested list as input and returns the first element of the first element.  (The first element must be a non-empty list).\n",
    "```\n",
    "y = [['q', 'r', 's'], 2]\n",
    "firstfirst(y) ---> 'q'\n",
    "```\n",
    "- Write a function `subscr2` that takes two arguments: a nested list and a list with two integers.  It uses those two integers as indexes into the nested list:\n",
    "```\n",
    "y = [['q', 'r', 's'], 2]\n",
    "subscr2(y, [0, 2]) ---> 's'\n",
    "```"
   ]
  },
  {
   "cell_type": "code",
   "execution_count": 23,
   "metadata": {
    "collapsed": true
   },
   "outputs": [],
   "source": [
    "#### Your code here\n",
    "\n",
    "#1\n",
    "def firstfirst(L):\n",
    "    return L[0][0]\n",
    "\n",
    "Firstfirst = lambda L: L[0][0]\n",
    "\n",
    "#2\n",
    "def subscr2(L, indexes):\n",
    "    return L[indexes[0]][indexes[1]]\n",
    "\n",
    "Subscr2 = lambda L, indexes: L[indexes[0]][indexes[1]]"
   ]
  },
  {
   "cell_type": "markdown",
   "metadata": {},
   "source": [
    "<p><a name=\"funcOper\"></a></p>\n",
    "# Functional Operators\n",
    "\n",
    "### `map`\n",
    "\n",
    "- You will often want to apply a function to all elements of a list.\n",
    "- Suppose a list `L` has elements that are all numbers, and `f` is a function on numbers.  Then `map(f, L)` is the result of applying `f` to every element of `L`."
   ]
  },
  {
   "cell_type": "code",
   "execution_count": 24,
   "metadata": {
    "collapsed": false
   },
   "outputs": [
    {
     "data": {
      "text/plain": [
       "[2.0, 3.0, 4.0]"
      ]
     },
     "execution_count": 24,
     "metadata": {},
     "output_type": "execute_result"
    }
   ],
   "source": [
    "L = [4, 9, 16]\n",
    "map(math.sqrt, L)"
   ]
  },
  {
   "cell_type": "code",
   "execution_count": 25,
   "metadata": {
    "collapsed": false
   },
   "outputs": [
    {
     "data": {
      "text/plain": [
       "[80, 810, 4352]"
      ]
     },
     "execution_count": 25,
     "metadata": {},
     "output_type": "execute_result"
    }
   ],
   "source": [
    "map(add_two_powers, L)"
   ]
  },
  {
   "cell_type": "code",
   "execution_count": 39,
   "metadata": {
    "collapsed": false
   },
   "outputs": [
    {
     "data": {
      "text/plain": [
       "[80, 810, 4352]"
      ]
     },
     "execution_count": 39,
     "metadata": {},
     "output_type": "execute_result"
    }
   ],
   "source": [
    "map(Add_two_powers, L)"
   ]
  },
  {
   "cell_type": "markdown",
   "metadata": {},
   "source": [
    "You can apply any one-argument function, as long as the values in the list are of the type that function expects."
   ]
  },
  {
   "cell_type": "code",
   "execution_count": 40,
   "metadata": {
    "collapsed": false
   },
   "outputs": [
    {
     "data": {
      "text/plain": [
       "[0, 2, 3]"
      ]
     },
     "execution_count": 40,
     "metadata": {},
     "output_type": "execute_result"
    }
   ],
   "source": [
    "nested_list1 = [[], [\"ab\", \"cd\"], [3, 4, 5]]\n",
    "map(len, nested_list1) #len applies to lists"
   ]
  },
  {
   "cell_type": "code",
   "execution_count": 41,
   "metadata": {
    "collapsed": false
   },
   "outputs": [
    {
     "data": {
      "text/plain": [
       "[[1, 2, 3], [10, 11, 12], [20, 21, 22]]"
      ]
     },
     "execution_count": 41,
     "metadata": {},
     "output_type": "execute_result"
    }
   ],
   "source": [
    "map(threevals, [1, 10, 20]) # three_vals applies to numbers"
   ]
  },
  {
   "cell_type": "code",
   "execution_count": 42,
   "metadata": {
    "collapsed": false
   },
   "outputs": [
    {
     "ename": "IndexError",
     "evalue": "list index out of range",
     "output_type": "error",
     "traceback": [
      "\u001b[0;31m---------------------------------------------------------------------------\u001b[0m",
      "\u001b[0;31mIndexError\u001b[0m                                Traceback (most recent call last)",
      "\u001b[0;32m<ipython-input-42-e92368e2136c>\u001b[0m in \u001b[0;36m<module>\u001b[0;34m()\u001b[0m\n\u001b[1;32m      1\u001b[0m \u001b[0;31m# firstelt applies to lists that are of non-zero length\u001b[0m\u001b[0;34m\u001b[0m\u001b[0;34m\u001b[0m\u001b[0m\n\u001b[0;32m----> 2\u001b[0;31m \u001b[0mmap\u001b[0m\u001b[0;34m(\u001b[0m\u001b[0mfirstelt\u001b[0m\u001b[0;34m,\u001b[0m \u001b[0mnested_list1\u001b[0m\u001b[0;34m)\u001b[0m\u001b[0;34m\u001b[0m\u001b[0m\n\u001b[0m",
      "\u001b[0;32m<ipython-input-27-7df41d4873cc>\u001b[0m in \u001b[0;36mfirstelt\u001b[0;34m(L)\u001b[0m\n\u001b[1;32m      1\u001b[0m \u001b[0;32mdef\u001b[0m \u001b[0mfirstelt\u001b[0m\u001b[0;34m(\u001b[0m\u001b[0mL\u001b[0m\u001b[0;34m)\u001b[0m\u001b[0;34m:\u001b[0m\u001b[0;34m\u001b[0m\u001b[0m\n\u001b[0;32m----> 2\u001b[0;31m     \u001b[0;32mreturn\u001b[0m \u001b[0mL\u001b[0m\u001b[0;34m[\u001b[0m\u001b[0;36m0\u001b[0m\u001b[0;34m]\u001b[0m\u001b[0;34m\u001b[0m\u001b[0m\n\u001b[0m\u001b[1;32m      3\u001b[0m \u001b[0;34m\u001b[0m\u001b[0m\n\u001b[1;32m      4\u001b[0m \u001b[0mFirstelt\u001b[0m \u001b[0;34m=\u001b[0m \u001b[0;32mlambda\u001b[0m \u001b[0mL\u001b[0m\u001b[0;34m:\u001b[0m \u001b[0mL\u001b[0m\u001b[0;34m[\u001b[0m\u001b[0;36m0\u001b[0m\u001b[0;34m]\u001b[0m\u001b[0;34m\u001b[0m\u001b[0m\n\u001b[1;32m      5\u001b[0m \u001b[0;34m\u001b[0m\u001b[0m\n",
      "\u001b[0;31mIndexError\u001b[0m: list index out of range"
     ]
    }
   ],
   "source": [
    "# firstelt applies to lists that are of non-zero length\n",
    "map(firstelt, nested_list1)"
   ]
  },
  {
   "cell_type": "code",
   "execution_count": 43,
   "metadata": {
    "collapsed": false
   },
   "outputs": [
    {
     "data": {
      "text/plain": [
       "['ab', 3]"
      ]
     },
     "execution_count": 43,
     "metadata": {},
     "output_type": "execute_result"
    }
   ],
   "source": [
    "map(firstelt, nested_list1[1:])"
   ]
  },
  {
   "cell_type": "markdown",
   "metadata": {},
   "source": [
    "Functions can use `map` just as they can use any other function."
   ]
  },
  {
   "cell_type": "code",
   "execution_count": 44,
   "metadata": {
    "collapsed": false
   },
   "outputs": [
    {
     "name": "stdout",
     "output_type": "stream",
     "text": [
      "[0, 2, 3]\n",
      "[0, 2, 3]\n"
     ]
    }
   ],
   "source": [
    "def get_lengths(L):\n",
    "    return map(len, L)\n",
    "\n",
    "Get_lengths = lambda L: map(len, L)\n",
    "\n",
    "print get_lengths(nested_list1)\n",
    "print Get_lengths(nested_list1)"
   ]
  },
  {
   "cell_type": "code",
   "execution_count": 45,
   "metadata": {
    "collapsed": false
   },
   "outputs": [
    {
     "name": "stdout",
     "output_type": "stream",
     "text": [
      "['ab', 3]\n",
      "['ab', 3]\n"
     ]
    }
   ],
   "source": [
    "def get_first_elements(L):\n",
    "    return map(firstelt, L)\n",
    "\n",
    "Get_first_elements = lambda L: map(firstelt, L)\n",
    "\n",
    "print get_first_elements(nested_list1[1:])\n",
    "print Get_first_elements(nested_list1[1:])"
   ]
  },
  {
   "cell_type": "markdown",
   "metadata": {},
   "source": [
    "** Exercise 6**   `map`\n",
    "\n",
    "- `square_all` squares every element of a numeric list.  (Define `sqr` to square a number, and map it over the list.)\n",
    "```\n",
    "squaree_all([1, 2, 3]) ---> [1, 4, 9]\n",
    "```\n",
    "- `get_second` gets the second element of every list in a nested list. (Define snd to get the second element of a list, and map it.)\n",
    "```\n",
    "get_second([[1, 2, 3], [4, 5], [6, 7, 8]]) ---> [2, 5, 7]\n",
    "```\n",
    "- `tot_length` finds the total length of the lists in a nested list.\n",
    "```\n",
    "tot_length([[1, 2, 3], [4, 5], [6, 7, 8]]) ---> 8\n",
    "```\n",
    "- Sum up the element in each inner list.\n",
    "```\n",
    "sum_each([[1, 2, 3], [4, 5], [6, 7, 8]]) ---> [6, 9, 21]\n",
    "```\n",
    "- Multiply every element by 2.\n",
    "```\n",
    "double_each([[1, 2, 3], [4, 5], [6, 7, 8]]) ---> [[2, 4, 6], [8, 10], [12, 14, 16]]\n",
    "```"
   ]
  },
  {
   "cell_type": "code",
   "execution_count": 46,
   "metadata": {
    "collapsed": true
   },
   "outputs": [],
   "source": [
    "#### Your code here\n",
    "\n",
    "#1\n",
    "def sqr(x):\n",
    "    return x**2\n",
    "def square_all(L):\n",
    "    return map(sqr, L)\n",
    "Square_all = lambda L: map(sqr, L)\n",
    "\n",
    "#2\n",
    "snd = lambda x: x[1]\n",
    "def get_second(L):\n",
    "    return map(snd, L)\n",
    "Get_second = lambda L: map(snd, L)\n",
    "\n",
    "#3\n",
    "def tot_length(L):\n",
    "    return sum(map(len, L))\n",
    "Tot_length = lambda L: sum(map(len, L))\n",
    "\n",
    "#4\n",
    "def sum_each(Lst):\n",
    "    return map(lambda ele: sum(ele),Lst)\n",
    "\n",
    "#5\n",
    "def double_each(Lst):\n",
    "    return map(lambda inner:map(lambda x:2*x ,inner),Lst)"
   ]
  },
  {
   "cell_type": "markdown",
   "metadata": {
    "collapsed": true
   },
   "source": [
    "<p><a name=\"bool\"></a></p>\n",
    "## Boolean Functions\n",
    "\n",
    "- Boolean functions return one of the truth values `True` or `False`.\n",
    "- There are built-in operators and functions that return booleans:\n",
    " - Arithmetic comparison operators: `==`, `!=`, ...\n",
    "- Conditions can be combined using `and`, `or`, and `not`:"
   ]
  },
  {
   "cell_type": "code",
   "execution_count": 3,
   "metadata": {
    "collapsed": false
   },
   "outputs": [
    {
     "data": {
      "text/plain": [
       "True"
      ]
     },
     "execution_count": 3,
     "metadata": {},
     "output_type": "execute_result"
    }
   ],
   "source": [
    "x = 6\n",
    "x > 5 and x < 7"
   ]
  },
  {
   "cell_type": "code",
   "execution_count": 48,
   "metadata": {
    "collapsed": false
   },
   "outputs": [
    {
     "data": {
      "text/plain": [
       "True"
      ]
     },
     "execution_count": 48,
     "metadata": {},
     "output_type": "execute_result"
    }
   ],
   "source": [
    "x != -1 or x >= 10"
   ]
  },
  {
   "cell_type": "markdown",
   "metadata": {},
   "source": [
    "Defining boolean functions is no different from defining any other kind of functions."
   ]
  },
  {
   "cell_type": "code",
   "execution_count": 49,
   "metadata": {
    "collapsed": false
   },
   "outputs": [
    {
     "name": "stdout",
     "output_type": "stream",
     "text": [
      "True\n",
      "True\n"
     ]
    }
   ],
   "source": [
    "# Test whether a list is empty\n",
    "def is_empty(L):\n",
    "    return L == []\n",
    "\n",
    "Is_empty = lambda L: L == []\n",
    "\n",
    "print is_empty([])\n",
    "print Is_empty([])"
   ]
  },
  {
   "cell_type": "code",
   "execution_count": 50,
   "metadata": {
    "collapsed": false
   },
   "outputs": [
    {
     "name": "stdout",
     "output_type": "stream",
     "text": [
      "False\n",
      "False\n"
     ]
    }
   ],
   "source": [
    "print Is_empty(squares)\n",
    "print is_empty(squares)"
   ]
  },
  {
   "cell_type": "code",
   "execution_count": 51,
   "metadata": {
    "collapsed": false
   },
   "outputs": [
    {
     "name": "stdout",
     "output_type": "stream",
     "text": [
      "True\n",
      "True\n"
     ]
    }
   ],
   "source": [
    "# Test if the first two elements of a list are the same\n",
    "def same_start(L):\n",
    "    return L[0] == L[1]\n",
    "\n",
    "Same_start = lambda L: L[0] == L[1]\n",
    "\n",
    "print same_start([1,1,2])\n",
    "print Same_start([1,1,2])"
   ]
  },
  {
   "cell_type": "code",
   "execution_count": 52,
   "metadata": {
    "collapsed": false
   },
   "outputs": [
    {
     "name": "stdout",
     "output_type": "stream",
     "text": [
      "False\n",
      "False\n"
     ]
    }
   ],
   "source": [
    "print same_start([1,2,2])\n",
    "print Same_start([1,2,2])"
   ]
  },
  {
   "cell_type": "markdown",
   "metadata": {},
   "source": [
    "<p><a name=\"filter\"></a></p>\n",
    "## `filter`\n",
    "\n",
    "Filter is used to find elements of a list that satisfy some condition. The condition is given in the form of a boolean function."
   ]
  },
  {
   "cell_type": "code",
   "execution_count": 53,
   "metadata": {
    "collapsed": false
   },
   "outputs": [
    {
     "data": {
      "text/plain": [
       "True"
      ]
     },
     "execution_count": 53,
     "metadata": {},
     "output_type": "execute_result"
    }
   ],
   "source": [
    "def non_zero(x):\n",
    "    return x != 0\n",
    "non_zero(1)"
   ]
  },
  {
   "cell_type": "code",
   "execution_count": 54,
   "metadata": {
    "collapsed": false
   },
   "outputs": [
    {
     "data": {
      "text/plain": [
       "False"
      ]
     },
     "execution_count": 54,
     "metadata": {},
     "output_type": "execute_result"
    }
   ],
   "source": [
    "non_zero(0)"
   ]
  },
  {
   "cell_type": "code",
   "execution_count": 55,
   "metadata": {
    "collapsed": false
   },
   "outputs": [
    {
     "data": {
      "text/plain": [
       "[1, 2, -3, -5]"
      ]
     },
     "execution_count": 55,
     "metadata": {},
     "output_type": "execute_result"
    }
   ],
   "source": [
    "# Get a list of all the non-zero elements of a list\n",
    "filter(non_zero, [1, 2, 0, -3, 0, -5])"
   ]
  },
  {
   "cell_type": "markdown",
   "metadata": {},
   "source": [
    "Let’s write some functions using filter."
   ]
  },
  {
   "cell_type": "code",
   "execution_count": 56,
   "metadata": {
    "collapsed": false
   },
   "outputs": [
    {
     "data": {
      "text/plain": [
       "[11, 42]"
      ]
     },
     "execution_count": 56,
     "metadata": {},
     "output_type": "execute_result"
    }
   ],
   "source": [
    "# Return the elements that are greater than ten\n",
    "def greater_than_ten(x):\n",
    "    return x > 10\n",
    "filter(greater_than_ten, [11, 2, 6, 42])"
   ]
  },
  {
   "cell_type": "code",
   "execution_count": 57,
   "metadata": {
    "collapsed": false
   },
   "outputs": [
    {
     "data": {
      "text/plain": [
       "[[1, 2, 3], [4, 5, 6]]"
      ]
     },
     "execution_count": 57,
     "metadata": {},
     "output_type": "execute_result"
    }
   ],
   "source": [
    "# Return all the non-empty lists from a nested list\n",
    "def is_not_empty(L):\n",
    "    return L != []\n",
    "filter(is_not_empty, [[], [1,2,3], [], [4,5,6], []])"
   ]
  },
  {
   "cell_type": "markdown",
   "metadata": {},
   "source": [
    "** Exercise 7 **\n",
    "\n",
    "- Define a boolean function increase2 that tests with the first two elements of a list are in increasing order.\n",
    "```\n",
    "increase2([2, 5, 4, 9]) ---> True\n",
    "increase2([2, 2, 5, 0]) ---> False\n",
    "```\n",
    "\n",
    "- Define a function increasing_lists that selects from a nested list only those lists that satisfy increase2:\n",
    "```\n",
    "increasing_lists([[2, 5, 4, 9], [2, 2], [3, 4, 5]]) \n",
    "    ---> [[2, 5, 4, 9], [3, 4, 5]]\n",
    "```"
   ]
  },
  {
   "cell_type": "code",
   "execution_count": 26,
   "metadata": {
    "collapsed": true
   },
   "outputs": [],
   "source": [
    "#### Your code here\n",
    "\n",
    "#1\n",
    "def increase2(L):\n",
    "    return L[0] < L[1]\n",
    "Increase2 = lambda L: L[0] < L[1]\n",
    "\n",
    "#2\n",
    "def increasing_lists(L):\n",
    "    return filter(increase2, L)\n",
    "Increasing_lists = lambda L:  filter(increase2, L)\n"
   ]
  },
  {
   "cell_type": "markdown",
   "metadata": {},
   "source": [
    "** Anonymous functions**\n",
    "\n",
    "We have been using two notations for defining functions because they will turn out to be useful in different ways. The “`def`” notation is much more common, and we will see that it has some real advantages. But the “`lambda`” notation has one big advantage we can use right now:\n",
    " - Lambda functions can be used without assigning them to variables - that is, without naming them.\n",
    " ```\n",
    " map(lambda x: x**2 + x**3, [2,3,4]) ---> [12, 36, 80]\n",
    " filter(lambda x: x != 0, [1, 2, 0, 3, 0, 6]) ---> [1, 2, 3, 6]\n",
    " ```\n",
    "\n",
    "When lambda functions are defined this way, they are called \"anonymous functions\". As we use `map`, `filter`, and other similar operations more and more, anonymous functions will be really handy."
   ]
  },
  {
   "cell_type": "markdown",
   "metadata": {},
   "source": [
    "<p><a name=\"listComp\"></a></p>\n",
    "# List Comprehension\n",
    "\n",
    "List comprehensions are another notation for defining lists. They are meant to mimic the mathematical notation of “set comprehensions”.\n",
    "- A list comprehension has the form: \n",
    "```\n",
    "[ expression for x in list if x satisfies a condition ]\n",
    "```\n",
    "The `where` clause is optional."
   ]
  },
  {
   "cell_type": "code",
   "execution_count": 59,
   "metadata": {
    "collapsed": false
   },
   "outputs": [
    {
     "data": {
      "text/plain": [
       "[1, 4, 9, 16, 25]"
      ]
     },
     "execution_count": 59,
     "metadata": {},
     "output_type": "execute_result"
    }
   ],
   "source": [
    "[ x* x for x in [1, 2, 3, 4, 5]]"
   ]
  },
  {
   "cell_type": "code",
   "execution_count": 60,
   "metadata": {
    "collapsed": false
   },
   "outputs": [
    {
     "data": {
      "text/plain": [
       "[0, 2, 3]"
      ]
     },
     "execution_count": 60,
     "metadata": {},
     "output_type": "execute_result"
    }
   ],
   "source": [
    "nested_list1 = [[], [\"ab\", \"cd\"], [3, 4, 5]]\n",
    "[len(l) for l in nested_list1]"
   ]
  },
  {
   "cell_type": "code",
   "execution_count": 61,
   "metadata": {
    "collapsed": false
   },
   "outputs": [
    {
     "data": {
      "text/plain": [
       "['ab', 3]"
      ]
     },
     "execution_count": 61,
     "metadata": {},
     "output_type": "execute_result"
    }
   ],
   "source": [
    "[l[0] for l in nested_list1 if l != []]"
   ]
  },
  {
   "cell_type": "markdown",
   "metadata": {},
   "source": [
    "**Exercise 8**\n",
    "\n",
    "Write list comprehensions to create the following lists:\n",
    " - The square roots of the numbers in `[1, 4, 9, 16]`. (Recall that `math.sqrt` is the square root function.)\n",
    " - The even numbers in a numeric list `L`. Define several lists `L` to test your list comprehension. \n",
    " **Hint** (`n` is even if and only if `n % 2 == 0`.)\n",
    "\n",
    "Now define functions that use these list comprehensions:\n",
    " - `all_square_roots(L)` returns the list of all the square roots of elements of `L` (which must be numeric). You can use either the `def` or `lambda` form; you don’t need to use both.\n",
    " - `evens(L)` returns the even numbers of L. Again, use either `def` or `lambda`."
   ]
  },
  {
   "cell_type": "code",
   "execution_count": 62,
   "metadata": {
    "collapsed": true
   },
   "outputs": [],
   "source": [
    "#### Your code here\n",
    "\n",
    "#1\n",
    "[math.sqrt(x) for x in [1, 4, 9, 16]]\n",
    "\n",
    "#2\n",
    "[x for x in L if x % 2 == 0]\n",
    "\n",
    "#3\n",
    "all_square_roots = lambda L: [math.sqrt(x) for x in L]\n",
    "\n",
    "#4\n",
    "evens = lambda L: [x for x in L if x % 2 == 0]"
   ]
  },
  {
   "cell_type": "markdown",
   "metadata": {},
   "source": [
    "<p><a name=\"multiList\"></a></p>\n",
    "# Multiple List Operations\n",
    "\n",
    "A multiple-list operation is one that combines two lists\n",
    " - Add the elements of two lists of the same length\n",
    " - Rearrange the elements of one list by using elements of another list as subscripts\n",
    " - Select elements of one list corresponding to the True elements in a list of boolean values\n",
    "\n",
    "These operations require that we map simultaneously over two lists. There are two ways to do this:\n",
    " - Use `map`. We’ve used `map` to map over a single list with a unary function, but it can also be used to map over multiple lists.\n",
    " - Use `zip` to put two lists together, then use unary map.\n",
    " \n",
    "`map(fun, lis1, lis2)` applies fun to pairs of elements from `lis1` and `lis2`\n",
    " - `lis1` and `lis2` must have the same length\n",
    " - `fun` is a binary operation whose arguments are of the correct type.\n",
    " \n",
    "If `lis1 = [x0, x1, x2, ...]` and `lis2 = [y0, y1, y2, ...]`, then `map(fun, lis1, lis2)` is equal to `[fun(x0, y0), fun(x1, y1), fun(x2, y2), ...]`."
   ]
  },
  {
   "cell_type": "code",
   "execution_count": 63,
   "metadata": {
    "collapsed": false
   },
   "outputs": [
    {
     "data": {
      "text/plain": [
       "[11, 22, 33]"
      ]
     },
     "execution_count": 63,
     "metadata": {},
     "output_type": "execute_result"
    }
   ],
   "source": [
    "map(lambda x, y: x+y, [1,2,3], [10,20,30]) # [1+10, 2+20, 3+30]"
   ]
  },
  {
   "cell_type": "code",
   "execution_count": 64,
   "metadata": {
    "collapsed": false
   },
   "outputs": [
    {
     "data": {
      "text/plain": [
       "[1, 3]"
      ]
     },
     "execution_count": 64,
     "metadata": {},
     "output_type": "execute_result"
    }
   ],
   "source": [
    "map(lambda x, y: x[y], [[1, 2], [2, 3]], [0, 1]) # [[1, 2][0], [2, 3][1]]"
   ]
  },
  {
   "cell_type": "markdown",
   "metadata": {},
   "source": [
    "`zip` is a binary function that takes two lists of the same length and makes one list containing pairs of corresponding elements of the two lists."
   ]
  },
  {
   "cell_type": "code",
   "execution_count": 65,
   "metadata": {
    "collapsed": false
   },
   "outputs": [
    {
     "data": {
      "text/plain": [
       "[(1, 5), (2, 6), (3, 7), (4, 8)]"
      ]
     },
     "execution_count": 65,
     "metadata": {},
     "output_type": "execute_result"
    }
   ],
   "source": [
    "a = [1, 2, 3, 4]\n",
    "b = [5, 6, 7, 8]\n",
    "zip(a, b)"
   ]
  },
  {
   "cell_type": "markdown",
   "metadata": {},
   "source": [
    "The elements in the zipped list are tuples. These are just like lists, but are written using parentheses instead of square brackets. For the most part, the difference between lists and tuples won’t matter to you."
   ]
  },
  {
   "cell_type": "markdown",
   "metadata": {},
   "source": [
    "`zip` provides an alternative to binary map:"
   ]
  },
  {
   "cell_type": "code",
   "execution_count": 66,
   "metadata": {
    "collapsed": false
   },
   "outputs": [
    {
     "data": {
      "text/plain": [
       "[11, 22, 33]"
      ]
     },
     "execution_count": 66,
     "metadata": {},
     "output_type": "execute_result"
    }
   ],
   "source": [
    "map(lambda p: p[0]+p[1], zip([1,2,3], [10,20,30]))"
   ]
  },
  {
   "cell_type": "markdown",
   "metadata": {},
   "source": [
    "Both `map` and `zip` can actually apply to more than two lists, in the “obvious” way:"
   ]
  },
  {
   "cell_type": "code",
   "execution_count": 67,
   "metadata": {
    "collapsed": false
   },
   "outputs": [
    {
     "data": {
      "text/plain": [
       "[(1, 5, 9), (2, 6, 10), (3, 7, 11)]"
      ]
     },
     "execution_count": 67,
     "metadata": {},
     "output_type": "execute_result"
    }
   ],
   "source": [
    "a = [1, 2, 3]\n",
    "b = [5, 6, 7]\n",
    "c = [9, 10, 11]\n",
    "zip(a, b, c)"
   ]
  },
  {
   "cell_type": "code",
   "execution_count": 68,
   "metadata": {
    "collapsed": false
   },
   "outputs": [
    {
     "data": {
      "text/plain": [
       "[15, 18, 21]"
      ]
     },
     "execution_count": 68,
     "metadata": {},
     "output_type": "execute_result"
    }
   ],
   "source": [
    "map(lambda t: t[0]+t[1]+t[2], zip(a,b,c))"
   ]
  },
  {
   "cell_type": "code",
   "execution_count": 69,
   "metadata": {
    "collapsed": false
   },
   "outputs": [
    {
     "data": {
      "text/plain": [
       "[15, 18, 21]"
      ]
     },
     "execution_count": 69,
     "metadata": {},
     "output_type": "execute_result"
    }
   ],
   "source": [
    "map(lambda x, y, z: x+y+z, a, b, c)"
   ]
  },
  {
   "cell_type": "markdown",
   "metadata": {},
   "source": [
    "**The operator module**\n",
    "\n",
    "If you want to apply a built-in operation like `+` in a map, you can use a `lambda` function - `lambda x, y: x+y` - but there is a simpler way. The operator module defines named versions of the built-in operations, just for use in functions like `map`. For example:"
   ]
  },
  {
   "cell_type": "code",
   "execution_count": 70,
   "metadata": {
    "collapsed": false
   },
   "outputs": [
    {
     "name": "stdout",
     "output_type": "stream",
     "text": [
      "[5, 7, 9]\n",
      "[4, 10, 18]\n"
     ]
    }
   ],
   "source": [
    "from operator import *\n",
    "print map(add, [1,2,3], [4, 5, 6])\n",
    "print map(mul, [1,2,3], [4, 5, 6])"
   ]
  },
  {
   "cell_type": "markdown",
   "metadata": {},
   "source": [
    "The documentation page https://docs.python.org/2/library/operator. html gives the complete list of operator names; see the table at the bottom of the page."
   ]
  },
  {
   "cell_type": "markdown",
   "metadata": {},
   "source": [
    "**Exercise 9** Operations on multiple lists\n",
    "\n",
    "- Write a function number_items that adds sequence numbers to each item in a list\n",
    "```\n",
    "number_items(['a', 'b', 7]) ---> [(1, 'a'), (2, 'b'), (3, 7)]\n",
    "```\n",
    "Create the numeric sequence using range, and then use zip.\n",
    "\n",
    "- Write eq_elts that compares the elements of two equal-length lists for equality:\n",
    "```\n",
    "eq_elts([1, 2, 3], [3, 2, 1]) ---> [False, True, False]\n",
    "```\n",
    "Import the operator module, look for the equality operator, and use in the three-argument version of `map`."
   ]
  },
  {
   "cell_type": "code",
   "execution_count": 71,
   "metadata": {
    "collapsed": true
   },
   "outputs": [],
   "source": [
    "#### Your code here\n",
    "number_items = lambda L: \n",
    "#1\n",
    "number_items = lambda L: zip(range(1, len(L)+1), L)\n",
    "\n",
    "#2\n",
    "eq_elts = lambda x, y: map(eq, x, y)"
   ]
  },
  {
   "cell_type": "markdown",
   "metadata": {},
   "source": [
    "<p><a name=\"conditionals\"></a></p>\n",
    "# Conditionals\n",
    "\n",
    "We have seen boolean functions used in the `filter` operator. They can also be used inside functions, to do different calculations depending upon properties of the input.\n",
    "\n",
    "For example, recall the function firstelt that returns the first element of a list:\n",
    "```\n",
    "￼def firstelt(L):\n",
    "    return L[0]\n",
    "```\n",
    "It “crashes” if its argument is the empty list. Suppose we would like it to instead return `None` in that case; `None` is a special value in Python that is often used for this kind of thing. We can do that with a conditional:"
   ]
  },
  {
   "cell_type": "code",
   "execution_count": 72,
   "metadata": {
    "collapsed": false
   },
   "outputs": [],
   "source": [
    "def firstelt(L):\n",
    "    if L == []:\n",
    "        return None\n",
    "    else:\n",
    "        return L[0]"
   ]
  },
  {
   "cell_type": "markdown",
   "metadata": {},
   "source": [
    "The syntax for a conditional in a function is:\n",
    "```\n",
    "if condition:                # any boolean expression\n",
    "    return expression        # return is indented from if\n",
    "else:                        # else starts in same column as if\n",
    "    return expression        # return is indented from else\n",
    "```\n",
    "The syntax in `lambda` definitions is different:\n",
    "```\n",
    "lambda x: expression if condition else expression\n",
    "```\n",
    "\n",
    "For example, here is `firstelt` in lambda syntax:"
   ]
  },
  {
   "cell_type": "code",
   "execution_count": 73,
   "metadata": {
    "collapsed": true
   },
   "outputs": [],
   "source": [
    "Firstelt = lambda L: None if L==[] else L[0]"
   ]
  },
  {
   "cell_type": "markdown",
   "metadata": {},
   "source": [
    "Conditionals can be nested arbitrarily:\n",
    "- Return A if c1 is true, B if c1 is false but c2 is true, and C if both are false:\n",
    "```\n",
    "if c1:\n",
    "    return A\n",
    "else:\n",
    "    if c2:\n",
    "        return B\n",
    "    else:\n",
    "        return C\n",
    "```\n",
    "- Having an `if` follow an `else` is so common there is special syntax for it:\n",
    "```\n",
    "f c1:\n",
    "    return A\n",
    "elif c2:\n",
    "    return B\n",
    "else:\n",
    "    return C\n",
    "```\n",
    "- Return A if c1 and c2 are true, B if c1 is true but not c2, C if c1 is false but c3 is true, and D if c2 and c3 are both false:\n",
    "```\n",
    "if c1:\n",
    "    if c2:\n",
    "        return A\n",
    "    else:\n",
    "        return B\n",
    "elif c3:\n",
    "    return C\n",
    "else:\n",
    "    return D\n",
    "```\n",
    "\n",
    "**Exercise 10**\n",
    "\n",
    "Define these functions. (To save time, you can use either syntactic form you wish; you don’t need to use both.)\n",
    " 1. `absolute(x)` returns the absolute value of `x`. (Don’t use the built-in `abs` function.)\n",
    " 2. `choose(response, choice1, choice2)` returns `choice1` if `response` is the string `'y'` or `'yes'`, and `choice2` otherwise.\n",
    " 3. `leap_year(y)` returns true if `y` is divisible by 4, except if it is divisible by 100; but it is still true if `y` is divisible by 400. Thus, 1940 is a leap year, 1900 isn’t, and 2000 is.\n",
    " 4. Use `filter` to define a function `leap_years` that selects from a list of numbers those that represent leap years.\n",
    " "
   ]
  },
  {
   "cell_type": "code",
   "execution_count": 30,
   "metadata": {
    "collapsed": false
   },
   "outputs": [],
   "source": [
    "#### Your code here\n",
    "\n",
    "#1\n",
    "def abs(x):\n",
    "    if x < 0:\n",
    "        return -x\n",
    "    else:\n",
    "        return x\n",
    "Abs = lambda x: -x if x<0 else x\n",
    "\n",
    "#2\n",
    "def choose(response, choice1, choice2):\n",
    "    if response == 'y' or response == 'yes':\n",
    "        return choice1\n",
    "    else:\n",
    "        return choice2\n",
    "Choose = lambda response, choice1, choice2: choice1 if response == 'y' or response == 'yes' else choice2\n",
    "\n",
    "#3\n",
    "def leap_year(y):\n",
    "    return y % 400 == 0 or (y % 4 ==0 and y % 100 != 0)\n",
    "\n",
    "#4\n",
    "leap_years = lambda L:  filter(leap_year, L)"
   ]
  },
  {
   "cell_type": "markdown",
   "metadata": {},
   "source": [
    "<p><a name=\"reduce\"></a></p>\n",
    "# Functional Operators: reduce\n",
    "\n",
    "- `map` and `reduce` are the best known “functional” operators on lists.\n",
    "- `reduce` is used to combine the elements of a list using a binary operator.\n",
    "- The idea is: If you have a list `L = [x0, x1, x2, ..., xn]`, and you have a binary operator ⊕, `reduce(`⊕`, L)` gives: `x0` ⊕ `x1` ⊕ `⋯ `⊕ `xn`. Thinking of it in terms of a two-argument function `f`, `reduce(f, L)` is `f(f(...(f(x0, x1), x2), ...), xn)`. If `L` has only one element `(n=0)`, then that element is returned `(x0)`. If `L` is empty, it is an error.\n",
    "- Another version of `reduce` has three arguments, and is defined simply as: `reduce(f, L, z) = reduce(f, [z] + L)`, i.e. `z` is returned if `L` is empty.\n",
    "\n",
    "Perhaps the simplest example is summing the elements of a numeric list:"
   ]
  },
  {
   "cell_type": "code",
   "execution_count": 74,
   "metadata": {
    "collapsed": false
   },
   "outputs": [
    {
     "data": {
      "text/plain": [
       "10"
      ]
     },
     "execution_count": 74,
     "metadata": {},
     "output_type": "execute_result"
    }
   ],
   "source": [
    "from operator import *\n",
    "\n",
    "reduce(add, [1, 2, 3, 4])"
   ]
  },
  {
   "cell_type": "markdown",
   "metadata": {},
   "source": [
    "The `+` operator is also the list concatenation operator:"
   ]
  },
  {
   "cell_type": "code",
   "execution_count": 75,
   "metadata": {
    "collapsed": false
   },
   "outputs": [
    {
     "data": {
      "text/plain": [
       "['a', 'b', 'c', 'd', 'e']"
      ]
     },
     "execution_count": 75,
     "metadata": {},
     "output_type": "execute_result"
    }
   ],
   "source": [
    "reduce(add, [['a'], [], ['b', 'c', 'd'], ['e']])"
   ]
  },
  {
   "cell_type": "markdown",
   "metadata": {},
   "source": [
    "Above `reduce` did: `['a'] + [] + ['b', 'c', 'd'] + ['e']`\n",
    "\n",
    "**How to use `reduce`**\n",
    "\n",
    "Often, using `reduce` is simplified by considering only two-element lists. If `L` is a list `[x, y]`, then, from the definition of `reduce`, `reduce(f, L) = f(x,y)`.\n",
    "- As an example, we’ll write the `max` function on lists. We already know there is a built-in `max` function, but for practice we’ll pretend it doesn’t exist and write it using `reduce`.\n",
    "- So the problem is to define a function `f` such that `reduce(f, L)` gives the maximum of `L`. As advised above, we’ll start by looking at two-element lists. Here are some examples:\n",
    "```\n",
    "reduce(f, [3, 4]) = f(3, 4) ---> 4\n",
    "reduce(f, [4, 3]) = f(4, 3) ---> 4\n",
    "```\n",
    "\n",
    "For two-element lists, we get the right answer as long as f is the “`max`” function on two numbers. That’s easy to define, so we write:"
   ]
  },
  {
   "cell_type": "code",
   "execution_count": 76,
   "metadata": {
    "collapsed": true
   },
   "outputs": [],
   "source": [
    "max2 = lambda x, y: x if x>y else y\n",
    "max_ = lambda L: reduce(max2, L)"
   ]
  },
  {
   "cell_type": "markdown",
   "metadata": {},
   "source": [
    "We’re sure this will work on two-element lists, but will it work on longer lists? Try it on an arbitrary list:"
   ]
  },
  {
   "cell_type": "code",
   "execution_count": 77,
   "metadata": {
    "collapsed": false
   },
   "outputs": [
    {
     "data": {
      "text/plain": [
       "7"
      ]
     },
     "execution_count": 77,
     "metadata": {},
     "output_type": "execute_result"
    }
   ],
   "source": [
    "max_([6,5,4,2,7,3])"
   ]
  },
  {
   "cell_type": "markdown",
   "metadata": {},
   "source": [
    "Obviously, we could write the `min` function the same way.\n",
    "\n",
    "Here’s another variant: Find the number of highest magnitude, whether positive or negative:\n",
    "```\n",
    "max_mag([6,-5,4,2,-7,3]) ---> -7\n",
    "```\n",
    "Again, think about the two-element version. It has to return the number that is greatest when comparing absolute values:"
   ]
  },
  {
   "cell_type": "code",
   "execution_count": 78,
   "metadata": {
    "collapsed": true
   },
   "outputs": [],
   "source": [
    "max_abs = lambda x, y: x if abs(x) > abs(y) else y\n",
    "max_mag = lambda L: reduce(max_abs, L)"
   ]
  },
  {
   "cell_type": "markdown",
   "metadata": {},
   "source": [
    "** Exercise 11**\n",
    "\n",
    "- Define product:\n",
    "```\n",
    "product([1,2,3,4]) ---> 24\n",
    "# 1*2*3*4\n",
    "```\n",
    "\n",
    "- Define `max_first`, which applies to nested lists and gives the element with the greatest first element:\n",
    "```\n",
    "x_first([[3, 2], [4, 1, 1], [1, 3]]) ---> [4, 1, 1]\n",
    "```"
   ]
  },
  {
   "cell_type": "code",
   "execution_count": 32,
   "metadata": {
    "collapsed": false
   },
   "outputs": [],
   "source": [
    "#### Your code here\n",
    "\n",
    "#1\n",
    "product = lambda L: reduce(lambda x, y: x*y, L)\n",
    "\n",
    "#2\n",
    "max_of_2 = lambda lis1, lis2: lis1 if lis1[0]>lis2[0] else lis2\n",
    "max_first = lambda L: reduce(max_of_2, L)"
   ]
  },
  {
   "cell_type": "markdown",
   "metadata": {},
   "source": [
    "**Noncommutative binary operators: sum of squares**\n",
    "\n",
    "The two-element list method does not always work. The problem here is to find the sum of the squares of a list:\n",
    "```\n",
    "sum_squares([2, 3, 4]) ---> 29 \n",
    "# 4 + 9 + 16\n",
    "```\n",
    "If we think only about two-element lists, we will write:"
   ]
  },
  {
   "cell_type": "code",
   "execution_count": 6,
   "metadata": {
    "collapsed": true
   },
   "outputs": [],
   "source": [
    "sum_sq = lambda x, y: x**2 + y**2"
   ]
  },
  {
   "cell_type": "markdown",
   "metadata": {},
   "source": [
    "which is wrong:"
   ]
  },
  {
   "cell_type": "code",
   "execution_count": 7,
   "metadata": {
    "collapsed": false
   },
   "outputs": [
    {
     "data": {
      "text/plain": [
       "185"
      ]
     },
     "execution_count": 7,
     "metadata": {},
     "output_type": "execute_result"
    }
   ],
   "source": [
    "reduce(sum_sq, [2, 3, 4])"
   ]
  },
  {
   "cell_type": "markdown",
   "metadata": {},
   "source": [
    "Looking back at the definition of reduce, we see that what we’re getting is: \n",
    "```\n",
    "sum_sq(sum_sq(2, 3), 4) = sum_sq(22 + 32, 4) = sum_sq(13, 4) = 132 + 42 = 185.\n",
    "```"
   ]
  },
  {
   "cell_type": "markdown",
   "metadata": {},
   "source": [
    "Think about `reduce` this way: \n",
    "\n",
    "In finding the desired value of our function on a list `L = [x0, x1, x2, ..., xn]`, we first find the desired value on the first part of the list, `[x0, x1, x2, ..., xn-1]`, and then add in the last element.\n",
    "\n",
    "So, suppose we have list `[2, 3, 4]`, and we have the sum of squares of `[2, 3]` - namely, 13 - and now we want to add in the square of 4. The function to use for this is:"
   ]
  },
  {
   "cell_type": "code",
   "execution_count": 81,
   "metadata": {
    "collapsed": true
   },
   "outputs": [],
   "source": [
    "add_sq = lambda x, y:  x + y**2"
   ]
  },
  {
   "cell_type": "markdown",
   "metadata": {},
   "source": [
    "This almost works:"
   ]
  },
  {
   "cell_type": "code",
   "execution_count": 82,
   "metadata": {
    "collapsed": false
   },
   "outputs": [
    {
     "data": {
      "text/plain": [
       "27"
      ]
     },
     "execution_count": 82,
     "metadata": {},
     "output_type": "execute_result"
    }
   ],
   "source": [
    "reduce(add_sq, [2, 3, 4])     # should be 29"
   ]
  },
  {
   "cell_type": "markdown",
   "metadata": {},
   "source": [
    "Can you see the problem?\n",
    "\n",
    "- The problem was that our function did not account for the very first element - it didn’t square the 4.\n",
    "\n",
    "To see how to fix this, consider adding zero into the list:"
   ]
  },
  {
   "cell_type": "code",
   "execution_count": 83,
   "metadata": {
    "collapsed": false
   },
   "outputs": [
    {
     "data": {
      "text/plain": [
       "29"
      ]
     },
     "execution_count": 83,
     "metadata": {},
     "output_type": "execute_result"
    }
   ],
   "source": [
    "reduce(add_sq, [0, 2, 3, 4])"
   ]
  },
  {
   "cell_type": "markdown",
   "metadata": {},
   "source": [
    "So, we can fix the problem by using the three-argument version of `reduce`:"
   ]
  },
  {
   "cell_type": "code",
   "execution_count": 84,
   "metadata": {
    "collapsed": false
   },
   "outputs": [
    {
     "data": {
      "text/plain": [
       "29"
      ]
     },
     "execution_count": 84,
     "metadata": {},
     "output_type": "execute_result"
    }
   ],
   "source": [
    "sum_squares = lambda L: reduce(add_sq, L, 0)\n",
    "sum_squares([2, 3, 4])"
   ]
  },
  {
   "cell_type": "markdown",
   "metadata": {},
   "source": [
    "**Exercise 12**\n",
    "\n",
    "Define `sum_of_lengths` in two ways: (a) Using `reduce`; (b) Using `map` and then the built-in `sum` function:\n",
    "```\n",
    "sum_of_lengths([[1, 1], [], [2, 2], [3]]) --->5\n",
    "# len([1, 1]) + len([]) + ...\n",
    "```\n",
    "When defining it with `reduce`, you will run into the same problem as we did with `sum_of_squares`, and you should apply the same solution."
   ]
  },
  {
   "cell_type": "code",
   "execution_count": 34,
   "metadata": {
    "collapsed": true
   },
   "outputs": [],
   "source": [
    "#### Your code here\n",
    "\n",
    "sum_of_lengths = lambda L: reduce(lambda x, y:  x + len(y), L, 0)\n",
    "\n",
    "sum_of_lengths = lambda L: sum(map(len, L))"
   ]
  },
  {
   "cell_type": "markdown",
   "metadata": {
    "collapsed": true
   },
   "source": [
    "<p><a name=\"homework\"></a></p>\n",
    "# Homework\n",
    "\n",
    "We discuss functional operators such as `map`, `filter` and `reduce`. They all can take a function as argument. In the first question we inspect the fact in a more fundamental way.\n",
    "\n",
    "- Define a function `apply_to_zero()` which takes a function and return the whatever the function returns when passing 0 to it. More precisely, the function is like:\n",
    "```\n",
    "apply_to_zero(math.sin) ---> sin(0) ---> 0\n",
    "apply_to_zero(math.cos) ---> cos(0) ---> 1\n",
    "apply_to_zero(math.exp) ---> exp(0) ---> 1\n",
    "```\n",
    "\n",
    "- Create a list of the function `math.sin`, `math.cos` and `math.exp`. Call this list `func_lst`.\n",
    "\n",
    "- Apply all the functions in `func_lst` to 3. Do this with `map` with `lambda` or list coprehension.\n",
    "\n",
    "- Compute $\\exp((\\cos(\\sin(0))))$ with `reduce` and `func_lst`."
   ]
  },
  {
   "cell_type": "code",
   "execution_count": null,
   "metadata": {
    "collapsed": true
   },
   "outputs": [],
   "source": [
    "#### You will need the math module\n",
    "import math\n",
    "\n",
    "#### Your code here"
   ]
  },
  {
   "cell_type": "code",
   "execution_count": null,
   "metadata": {
    "collapsed": true
   },
   "outputs": [],
   "source": []
  }
 ],
 "metadata": {
  "anaconda-cloud": {},
  "kernelspec": {
   "display_name": "Python [python2]",
   "language": "python",
   "name": "Python [python2]"
  },
  "language_info": {
   "codemirror_mode": {
    "name": "ipython",
    "version": 2
   },
   "file_extension": ".py",
   "mimetype": "text/x-python",
   "name": "python",
   "nbconvert_exporter": "python",
   "pygments_lexer": "ipython2",
   "version": "2.7.12"
  }
 },
 "nbformat": 4,
 "nbformat_minor": 0
}
