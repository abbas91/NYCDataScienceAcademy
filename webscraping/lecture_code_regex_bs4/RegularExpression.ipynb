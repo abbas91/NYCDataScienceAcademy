{
 "cells": [
  {
   "cell_type": "markdown",
   "metadata": {},
   "source": [
    "<p><a name=\"sections\"></a></p>\n",
    "<br>\n",
    "<br>\n",
    "# Sections\n",
    "- <a href=\"#re\">Regular Expressions</a><br>\n",
    "    - <a href=\"#meta\">Metacharacters</a><br>\n",
    "        - <a href=\"#dot\">Dot</a><br>\n",
    "        - <a href=\"#question\">Question mark, plus, asterisk, and {}</a><br>\n",
    "        - <a href=\"#caret\">Caret/dollar sign</a><br>\n",
    "        - <a href=\"#bracket\">Bracket</a><br>\n",
    "        - <a href=\"#vertical\">Vertical Bar</a><br>\n",
    "        - <a href=\"#backslash\">Backslash</a><br>\n",
    "    - <a href=\"#function\">Functions in Regular Expression</a><br>\n",
    "        - <a href=\"#sub\">re.sub</a><br>\n",
    "        - <a href=\"#split\">re.split</a><br>\n",
    "        - <a href=\"#findall\">re.findall</a><br>\n",
    "    - <a href=\"#example\">Example: Wordcount</a><br>"
   ]
  },
  {
   "cell_type": "markdown",
   "metadata": {},
   "source": [
    "<p><a name=\"re\"></a></p>\n",
    "\n",
    "## Regular Expressions\n",
    "\n",
    "We have seen some basic and intermediate functions for handling and working with strings.\n",
    "\n",
    "However, if you really want to unleash the power of string manipulation, it's necessary to learn regular expressions.\n",
    "\n",
    "- **Concept**\n",
    "\n",
    "A regular expression is a special text string for describing a certain amount of text. This “certain amount of text” receives the formal name of **pattern**. Hence we say that a regular expression is a pattern that describes a set of strings.\n",
    "\n",
    "The goal of using regular expressions is to extract specific characters from text by describing its pattern.\n",
    "\n",
    "- **Pattern**\n",
    "\n",
    "For example, both **gray** and **grey** match the pattern **gr.y** in which the dot **.** refers to an arbitrary character."
   ]
  },
  {
   "cell_type": "markdown",
   "metadata": {},
   "source": [
    "<p><a name=\"meta\"></a></p>\n",
    "### Metacharacters\n",
    "[[back to top]](#sections)\n",
    "\n",
    "The simplest form of regular expressions is a pattern that matches a single character, for example, `a` matches exactly the character 'a'.\n",
    "\n",
    "However, there are some special characters that have a reserved status and they are known as **metacharacters**.\n",
    "\n",
    ">    . ^ $ * + ? { } [ ] \\ | ( )\n",
    "\n",
    "These metacharacters have special meaning when working with regular expressions. So the expression `a|b` does not match exactly the characters `a|b`. \n",
    "\n",
    "The backslash `\\` is called an **escape operator**, which is used for turning these metacharacters into normal characters. For example, `a\\|b` in regular expression matches exactly the character `a|b`."
   ]
  },
  {
   "cell_type": "markdown",
   "metadata": {},
   "source": [
    "### Python Module: re\n",
    "\n",
    "The library **re** is used to implement regular expressions in python."
   ]
  },
  {
   "cell_type": "code",
   "execution_count": 1,
   "metadata": {
    "collapsed": false
   },
   "outputs": [
    {
     "name": "stdout",
     "output_type": "stream",
     "text": [
      "<_sre.SRE_Match object at 0x1063812a0>\n"
     ]
    }
   ],
   "source": [
    "import re\n",
    "raw_string = 'Hi, how are you today?'\n",
    "print re.search('Hi', raw_string)"
   ]
  },
  {
   "cell_type": "code",
   "execution_count": 2,
   "metadata": {
    "collapsed": false
   },
   "outputs": [
    {
     "name": "stdout",
     "output_type": "stream",
     "text": [
      "None\n"
     ]
    }
   ],
   "source": [
    "print re.search('Hello', raw_string)"
   ]
  },
  {
   "cell_type": "markdown",
   "metadata": {},
   "source": [
    "It returns a SRE_Mathch object if there exists a match, otherwise returns None."
   ]
  },
  {
   "cell_type": "code",
   "execution_count": 3,
   "metadata": {
    "collapsed": false
   },
   "outputs": [
    {
     "name": "stdout",
     "output_type": "stream",
     "text": [
      "0\n",
      "2\n",
      "(0, 2)\n"
     ]
    }
   ],
   "source": [
    "s = re.search('Hi', raw_string)\n",
    "print s.start() # the starting position of of the matched string\n",
    "print s.end()   # the ending position index of the matched string\n",
    "print s.span()  # a tuple containing the (start, end) positions of the matched string"
   ]
  },
  {
   "cell_type": "markdown",
   "metadata": {},
   "source": [
    "### The meaning of metacharacters\n",
    "`re.search(pattern, string) != None` is `True` if the string matches the pattern. We will use this function to test our regular expressions."
   ]
  },
  {
   "cell_type": "markdown",
   "metadata": {},
   "source": [
    "<p><a name=\"dot\"></a></p>\n",
    "#### dot\n",
    "[[back to top]](#sections)\n",
    "\n",
    "`.` refers to any single characters. For example, `a.` matches any two characters start with 'a': `aa`, `ab`, `an`, `a1`, `a#`, etc."
   ]
  },
  {
   "cell_type": "code",
   "execution_count": 4,
   "metadata": {
    "collapsed": false
   },
   "outputs": [
    {
     "name": "stdout",
     "output_type": "stream",
     "text": [
      "True\n",
      "True\n",
      "True\n",
      "True\n",
      "False\n",
      "True\n",
      "False\n",
      "True\n"
     ]
    }
   ],
   "source": [
    "print re.search('a.', 'aa') != None\n",
    "print re.search('a.', 'ab') != None\n",
    "print re.search('a.', 'a1') != None\n",
    "print re.search('a.', 'a#') != None\n",
    "print re.search('a.', '#a') != None\n",
    "print re.search('a.b', 'a+b') != None\n",
    "print re.search('a.b', 'a+x+b') != None\n",
    "print re.search('../../201.', 'From 06/01/2015') != None"
   ]
  },
  {
   "cell_type": "markdown",
   "metadata": {},
   "source": [
    "<p><a name=\"question\"></a></p>\n",
    "#### Question mark, plus, asterisk, and {}\n",
    "[[back to top]](#sections)\n",
    "\n",
    "`?` matches the preceding expression either once or zero times.\n",
    "\n",
    "`+` matches the preceding expression character at least once.\n",
    "\n",
    "`*` matches the preceding expression character arbitrary times.\n",
    "\n",
    "`{m,n}` matches the preceding expression at least m times and at most n times.\n",
    "\n",
    "For example, `ba?b` matches `bab` and `bb`."
   ]
  },
  {
   "cell_type": "code",
   "execution_count": 5,
   "metadata": {
    "collapsed": false
   },
   "outputs": [
    {
     "name": "stdout",
     "output_type": "stream",
     "text": [
      "True\n",
      "True\n",
      "False\n"
     ]
    }
   ],
   "source": [
    "print re.search('ba?b', 'bb') != None    # match\n",
    "print re.search('ba?b', 'bab') != None   # match\n",
    "print re.search('ba?b', 'baab') != None  # does not match"
   ]
  },
  {
   "cell_type": "markdown",
   "metadata": {},
   "source": [
    "`ba+b` matches `bab` and `baab`. `baaaab`, `baaaaaab`, etc."
   ]
  },
  {
   "cell_type": "code",
   "execution_count": 6,
   "metadata": {
    "collapsed": false
   },
   "outputs": [
    {
     "name": "stdout",
     "output_type": "stream",
     "text": [
      "False\n",
      "True\n",
      "True\n",
      "True\n",
      "True\n"
     ]
    }
   ],
   "source": [
    "print re.search('ba+b', 'bb') != None    # does not match\n",
    "print re.search('ba+b', 'bab') != None   # match\n",
    "print re.search('ba+b', 'baab') != None  # match\n",
    "print re.search('ba+b', 'baaaab') != None  # match\n",
    "print re.search('ba+b', 'baaaaaab') != None  # match"
   ]
  },
  {
   "cell_type": "markdown",
   "metadata": {},
   "source": [
    "`ba*b` matches both of them."
   ]
  },
  {
   "cell_type": "code",
   "execution_count": 7,
   "metadata": {
    "collapsed": false
   },
   "outputs": [
    {
     "name": "stdout",
     "output_type": "stream",
     "text": [
      "True\n",
      "True\n",
      "True\n"
     ]
    }
   ],
   "source": [
    "print re.search('ba*b', 'bb') != None    # match\n",
    "print re.search('ba*b', 'bab') != None   # match\n",
    "print re.search('ba*b', 'baaaaaab') != None  # match"
   ]
  },
  {
   "cell_type": "markdown",
   "metadata": {},
   "source": [
    "`ba{1,3}b` matches `bab`, `baab` and `baaab`."
   ]
  },
  {
   "cell_type": "code",
   "execution_count": 8,
   "metadata": {
    "collapsed": false
   },
   "outputs": [
    {
     "name": "stdout",
     "output_type": "stream",
     "text": [
      "True\n",
      "True\n",
      "True\n",
      "False\n",
      "False\n"
     ]
    }
   ],
   "source": [
    "print re.search('ba{1,3}b', 'bab') != None    # match\n",
    "print re.search('ba{1,3}b', 'baab') != None   # match\n",
    "print re.search('ba{1,3}b', 'baaab') != None  # match\n",
    "\n",
    "print re.search('ba{1,3}b', 'bb') != None     # does not match\n",
    "print re.search('ba{1,3}b', 'baaaab') != None # does not match"
   ]
  },
  {
   "cell_type": "markdown",
   "metadata": {},
   "source": [
    "`ba{0,1}b` is the same as `ba?b`. \n",
    "\n",
    "`ba{1,}b` is the same as `ba+b`. \n",
    "\n",
    "`ba{3,}b` matches `baaab`, `baaaab`, etc, in which `a` appears more than 3 times."
   ]
  },
  {
   "cell_type": "markdown",
   "metadata": {},
   "source": [
    "<p><a name=\"caret\"></a></p>\n",
    "#### caret / dollar sign\n",
    "[[back to top]](#sections)\n",
    "\n",
    "`^` refers to the beginning of a text, while `$` refers to the ending of a text. \n",
    "\n",
    "For example, `^a` matches any text that begins with character `a`.\n",
    "\n",
    "`a$` matches any text ending with character `a`. "
   ]
  },
  {
   "cell_type": "code",
   "execution_count": 9,
   "metadata": {
    "collapsed": false
   },
   "outputs": [
    {
     "name": "stdout",
     "output_type": "stream",
     "text": [
      "True\n",
      "True\n",
      "False\n"
     ]
    }
   ],
   "source": [
    "print re.search('^a', 'abc') != None    # match\n",
    "print re.search('^a', 'abcde') != None  # match\n",
    "print re.search('^a', ' abcde') != None # does not match"
   ]
  },
  {
   "cell_type": "code",
   "execution_count": 10,
   "metadata": {
    "collapsed": false
   },
   "outputs": [
    {
     "name": "stdout",
     "output_type": "stream",
     "text": [
      "True\n",
      "True\n",
      "False\n"
     ]
    }
   ],
   "source": [
    "print re.search('a$', 'aba') != None    # match\n",
    "print re.search('a$', 'abcba') != None  # match\n",
    "print re.search('a$', ' aba ') != None  # does not match"
   ]
  },
  {
   "cell_type": "markdown",
   "metadata": {},
   "source": [
    "<p><a name=\"bracket\"></a></p>\n",
    "#### bracket\n",
    "[[back to top]](#sections)\n",
    "\n",
    "`[]` is used to specify a set of characters that you wish to match. For example, `[123abc]` will match any of the characters `1, 2, 3, a, b`, or `c` ; this is the same as `[1-3a-c]`, which uses a range to express the same set of characters. Further more `[a-z]` matches all lower letters, while `[0-9]` matches all numbers."
   ]
  },
  {
   "cell_type": "code",
   "execution_count": 11,
   "metadata": {
    "collapsed": false
   },
   "outputs": [
    {
     "name": "stdout",
     "output_type": "stream",
     "text": [
      "False\n",
      "True\n",
      "True\n",
      "True\n",
      "True\n",
      "False\n"
     ]
    }
   ],
   "source": [
    "print re.search('[123abc]', 'defg')  != None   # does not match\n",
    "print re.search('[123abc]', '1defg') != None   # match\n",
    "print re.search('[1-3a-c]', '2defg') != None   # match\n",
    "print re.search('[123abc]', 'adefg') != None   # match\n",
    "print re.search('[1-3a-c]', 'bdefg') != None   # match\n",
    "print re.search('[15abij]', '2degh') != None   # does not match"
   ]
  },
  {
   "cell_type": "markdown",
   "metadata": {},
   "source": [
    "The expression `()` is very similar to its mathematical meaning, the brackets group the expressions contained inside them, and you can repeat the contents in a group with a repeating qualifier. \n",
    "\n",
    "For example, the pattern `(abc){2,3}` matches `abc` 2 or 3 times."
   ]
  },
  {
   "cell_type": "code",
   "execution_count": 12,
   "metadata": {
    "collapsed": false
   },
   "outputs": [
    {
     "name": "stdout",
     "output_type": "stream",
     "text": [
      "False\n",
      "True\n",
      "True\n",
      "True\n",
      "False\n"
     ]
    }
   ],
   "source": [
    "print re.search('(abc){2,3}', 'abc')  != None         # does not match\n",
    "print re.search('(abc){2,3}', 'abcabc')  != None      # match\n",
    "print re.search('(abc){2,3}', 'abcabcabc')  != None   # match\n",
    "\n",
    "print re.search('(Vivian, ){2,}', 'Vivian, Vivian, Jason, ')  != None   # match\n",
    "print re.search('(Vivian, ){2,}', 'Vivian, Jason, Vivian, ')  != None   # does not match"
   ]
  },
  {
   "cell_type": "markdown",
   "metadata": {},
   "source": [
    "<p><a name=\"vertical\"></a></p>\n",
    "#### vertical bar\n",
    "[[back to top]](#sections)\n",
    "\n",
    "`|` is a logical operator. For examples, `a|b` matches `a` or `b`, which is similar to `[ab]`. \n",
    "`abc|123` matches `abc` or `123`, while `[abc123]` matches any single characters in `a, b, c, 1, 2, 3`. "
   ]
  },
  {
   "cell_type": "code",
   "execution_count": 13,
   "metadata": {
    "collapsed": false
   },
   "outputs": [
    {
     "name": "stdout",
     "output_type": "stream",
     "text": [
      "False\n",
      "False\n",
      "True\n",
      "True\n"
     ]
    }
   ],
   "source": [
    "print re.search('abc|123', 'a') != None   # does not match\n",
    "print re.search('abc|123', '1') != None   # does not match\n",
    "print re.search('abc|123', '123') != None # match\n",
    "print re.search('abc|123', 'abc') != None # match"
   ]
  },
  {
   "cell_type": "markdown",
   "metadata": {},
   "source": [
    "<p><a name=\"blackslash\"></a></p>\n",
    "#### backslash\n",
    "[[back to top]](#sections)\n",
    "\n",
    "If you want to match exactly `?`, it is necessary to add a backslash `\\?`. Otherwise, the character `?` will be treated as a metacharacter. `?` matches a character(group) either once or zero times."
   ]
  },
  {
   "cell_type": "code",
   "execution_count": 14,
   "metadata": {
    "collapsed": false
   },
   "outputs": [
    {
     "name": "stdout",
     "output_type": "stream",
     "text": [
      "True\n"
     ]
    }
   ],
   "source": [
    "print re.search('\\?', 'Hi, how are you today?') != None"
   ]
  },
  {
   "cell_type": "markdown",
   "metadata": {},
   "source": [
    "```python\n",
    ">>> print re.search('?', 'Hi, how are you today?') != None\n",
    "Traceback (most recent call last):\n",
    "  File \"<stdin>\", line 1, in <module>\n",
    "  File \"/usr/lib/python2.7/re.py\", line 142, in search\n",
    "    return _compile(pattern, flags).search(string)\n",
    "  File \"/usr/lib/python2.7/re.py\", line 244, in _compile\n",
    "    raise error, v # invalid expression\n",
    "sre_constants.error: nothing to repeat\n",
    "```"
   ]
  },
  {
   "cell_type": "markdown",
   "metadata": {},
   "source": [
    "## Functions in Regular Expression\n",
    "\n",
    "\n",
    "- **re.split(pattern, string)**: Split the `string` into a list by the `pattern`.\n",
    "- **re.sub(pattern, replace, string)**: Replace the substrings in the `string` that matches the `pattern` with the argument `replace`.\n",
    "- **re.findall(pattern, string)**: Find all substrings where the `pattern` matches, and return them as a list.\n",
    "\n",
    "In the base library, the strings already have similar methods like `str.split` and `str.replace`.\n",
    "\n",
    "`str.split` is similar to `re.split`, `str.replace` is similar to `re.sub`.\n",
    "\n",
    "However, the regular expressions `re.split` and `re.sub` are much more powerful!"
   ]
  },
  {
   "cell_type": "code",
   "execution_count": 16,
   "metadata": {
    "collapsed": true
   },
   "outputs": [],
   "source": [
    "s = '''The re module was added in Python 1.5, \n",
    "and provides Perl-style regular expression patterns. \n",
    "Earlier versions of Python came with the regex module, \n",
    "which provided Emacs-style patterns. \n",
    "The regex module was removed completely in Python 2.5.'''"
   ]
  },
  {
   "cell_type": "markdown",
   "metadata": {},
   "source": [
    "<p><a name=\"sub\"></a></p>\n",
    "### re.sub\n",
    "[[back to top]](#sections)\n",
    "\n",
    "We can replace all separators at the same time using regular expression."
   ]
  },
  {
   "cell_type": "markdown",
   "metadata": {},
   "source": [
    "- **Question**\n",
    "\n",
    "Suppose we want to split this sentence into a list in which each element is a word. The separators are `dot(.)`, `dash(-)`, `comma(,)` and `blank space( )`.\n",
    "\n",
    "- **Solution**\n",
    "\n",
    "1. Since we cannot split a string by multiple separators, an alternative is replacing all separators with a blank space.\n",
    "\n",
    "2. Then we can split the replaced text using the blank spaces."
   ]
  },
  {
   "cell_type": "code",
   "execution_count": 17,
   "metadata": {
    "collapsed": false
   },
   "outputs": [
    {
     "name": "stdout",
     "output_type": "stream",
     "text": [
      "The re module was added in Python 1 5   and provides Perl style regular expression patterns   Earlier versions of Python came with the regex module   which provided Emacs style patterns   The regex module was removed completely in Python 2 5 \n"
     ]
    },
    {
     "data": {
      "text/plain": [
       "['The',\n",
       " 're',\n",
       " 'module',\n",
       " 'was',\n",
       " 'added',\n",
       " 'in',\n",
       " 'Python',\n",
       " '1',\n",
       " '5',\n",
       " 'and',\n",
       " 'provides',\n",
       " 'Perl',\n",
       " 'style',\n",
       " 'regular',\n",
       " 'expression',\n",
       " 'patterns',\n",
       " 'Earlier',\n",
       " 'versions',\n",
       " 'of',\n",
       " 'Python',\n",
       " 'came',\n",
       " 'with',\n",
       " 'the',\n",
       " 'regex',\n",
       " 'module',\n",
       " 'which',\n",
       " 'provided',\n",
       " 'Emacs',\n",
       " 'style',\n",
       " 'patterns',\n",
       " 'The',\n",
       " 'regex',\n",
       " 'module',\n",
       " 'was',\n",
       " 'removed',\n",
       " 'completely',\n",
       " 'in',\n",
       " 'Python',\n",
       " '2',\n",
       " '5',\n",
       " '']"
      ]
     },
     "execution_count": 17,
     "metadata": {},
     "output_type": "execute_result"
    }
   ],
   "source": [
    "s2 = s\n",
    "s2 = re.sub('[\\n,.-]', ' ', s2)\n",
    "print s2\n",
    "re.split(' +', s2) \n",
    "# since there are empty characters in the result, we split it by one or more blank space"
   ]
  },
  {
   "cell_type": "markdown",
   "metadata": {},
   "source": [
    "<p><a name=\"split\"></a></p>\n",
    "### re.split\n",
    "[[back to top]](#sections)\n",
    "\n",
    "\n",
    "A simpler method uses regular expressions to directly split the text by multiple separators."
   ]
  },
  {
   "cell_type": "code",
   "execution_count": 18,
   "metadata": {
    "collapsed": false
   },
   "outputs": [
    {
     "data": {
      "text/plain": [
       "['The',\n",
       " 're',\n",
       " 'module',\n",
       " 'was',\n",
       " 'added',\n",
       " 'in',\n",
       " 'Python',\n",
       " '1',\n",
       " '5',\n",
       " 'and',\n",
       " 'provides',\n",
       " 'Perl',\n",
       " 'style',\n",
       " 'regular',\n",
       " 'expression',\n",
       " 'patterns',\n",
       " 'Earlier',\n",
       " 'versions',\n",
       " 'of',\n",
       " 'Python',\n",
       " 'came',\n",
       " 'with',\n",
       " 'the',\n",
       " 'regex',\n",
       " 'module',\n",
       " 'which',\n",
       " 'provided',\n",
       " 'Emacs',\n",
       " 'style',\n",
       " 'patterns',\n",
       " 'The',\n",
       " 'regex',\n",
       " 'module',\n",
       " 'was',\n",
       " 'removed',\n",
       " 'completely',\n",
       " 'in',\n",
       " 'Python',\n",
       " '2',\n",
       " '5',\n",
       " '']"
      ]
     },
     "execution_count": 18,
     "metadata": {},
     "output_type": "execute_result"
    }
   ],
   "source": [
    "re.split('[\\n ,\\.-]+', s)"
   ]
  },
  {
   "cell_type": "markdown",
   "metadata": {},
   "source": [
    "<p><a name=\"findall\"></a></p>\n",
    "### re.findall\n",
    "[[back to top]](#sections)\n",
    "\n",
    "Similar to **re.split**, **re.findall** also works well in this case.\n",
    "\n",
    "Just select letters in the string `s` by using **re.findall**."
   ]
  },
  {
   "cell_type": "code",
   "execution_count": 19,
   "metadata": {
    "collapsed": false
   },
   "outputs": [
    {
     "data": {
      "text/plain": [
       "['The',\n",
       " 're',\n",
       " 'module',\n",
       " 'was',\n",
       " 'added',\n",
       " 'in',\n",
       " 'Python',\n",
       " 'and',\n",
       " 'provides',\n",
       " 'Perl',\n",
       " 'style',\n",
       " 'regular',\n",
       " 'expression',\n",
       " 'patterns',\n",
       " 'Earlier',\n",
       " 'versions',\n",
       " 'of',\n",
       " 'Python',\n",
       " 'came',\n",
       " 'with',\n",
       " 'the',\n",
       " 'regex',\n",
       " 'module',\n",
       " 'which',\n",
       " 'provided',\n",
       " 'Emacs',\n",
       " 'style',\n",
       " 'patterns',\n",
       " 'The',\n",
       " 'regex',\n",
       " 'module',\n",
       " 'was',\n",
       " 'removed',\n",
       " 'completely',\n",
       " 'in',\n",
       " 'Python']"
      ]
     },
     "execution_count": 19,
     "metadata": {},
     "output_type": "execute_result"
    }
   ],
   "source": [
    "re.findall('[a-zA-Z]+', s) # if you want number too, run re.findall('[a-zA-Z0-9]+', s) "
   ]
  },
  {
   "cell_type": "markdown",
   "metadata": {},
   "source": [
    "### Special sequence in regular expression\n",
    "\n",
    "****\n",
    "\n",
    "There are some special sequences that have special meaning in regular expression.\n",
    "\n",
    "- `\\d`:\n",
    "Matches any decimal digit; this is equivalent to the class [0-9].\n",
    "- `\\D`:\n",
    "Matches any non-digit character; this is equivalent to the class [^0-9].\n",
    "\n",
    "- `\\w`:\n",
    "Matches any alphanumeric character; this is equivalent to the class [a-zA-Z0-9_].\n",
    "- `\\W`:\n",
    "Matches any non-alphanumeric character; this is equivalent to the class [^a-zA-Z0-9_].\n",
    "\n",
    "- `\\s`:\n",
    "Matches any whitespace character; this is equivalent to the class [ \\t\\n\\r\\f\\v].\n",
    "- `\\S`:\n",
    "Matches any non-whitespace character; this is equivalent to the class [^ \\t\\n\\r\\f\\v]."
   ]
  },
  {
   "cell_type": "markdown",
   "metadata": {},
   "source": [
    "- **\\t**: tab, <TAB>\n",
    "\n",
    "- **\\v**: vertical tab.\n",
    "\n",
    "- **\\r**: Carraige return. Move to the leading end (left) of the current line.\n",
    "\n",
    "- **\\n**: Line Feed. Move to next line, staying in the same column. Prior to Unix, usually used only after CR or LF.\n",
    "\n",
    "- **\\f**: Form feed. Feed paper to a pre-established position on the form, usually top of the page."
   ]
  },
  {
   "cell_type": "markdown",
   "metadata": {},
   "source": [
    "So the simplest way to solve the problem is:"
   ]
  },
  {
   "cell_type": "code",
   "execution_count": 20,
   "metadata": {
    "collapsed": false
   },
   "outputs": [
    {
     "data": {
      "text/plain": [
       "['The',\n",
       " 're',\n",
       " 'module',\n",
       " 'was',\n",
       " 'added',\n",
       " 'in',\n",
       " 'Python',\n",
       " '1',\n",
       " '5',\n",
       " 'and',\n",
       " 'provides',\n",
       " 'Perl',\n",
       " 'style',\n",
       " 'regular',\n",
       " 'expression',\n",
       " 'patterns',\n",
       " 'Earlier',\n",
       " 'versions',\n",
       " 'of',\n",
       " 'Python',\n",
       " 'came',\n",
       " 'with',\n",
       " 'the',\n",
       " 'regex',\n",
       " 'module',\n",
       " 'which',\n",
       " 'provided',\n",
       " 'Emacs',\n",
       " 'style',\n",
       " 'patterns',\n",
       " 'The',\n",
       " 'regex',\n",
       " 'module',\n",
       " 'was',\n",
       " 'removed',\n",
       " 'completely',\n",
       " 'in',\n",
       " 'Python',\n",
       " '2',\n",
       " '5']"
      ]
     },
     "execution_count": 20,
     "metadata": {},
     "output_type": "execute_result"
    }
   ],
   "source": [
    "re.findall('\\w+', s) # same as re.findall(`[a-zA-Z0-9_]+`, s)"
   ]
  },
  {
   "cell_type": "code",
   "execution_count": 21,
   "metadata": {
    "collapsed": false
   },
   "outputs": [
    {
     "data": {
      "text/html": [
       "<iframe src=https://docs.python.org/2/library/re.html width=800 height=600></iframe>"
      ],
      "text/plain": [
       "<IPython.core.display.HTML object>"
      ]
     },
     "execution_count": 21,
     "metadata": {},
     "output_type": "execute_result"
    }
   ],
   "source": [
    "from IPython.display import HTML\n",
    "HTML('<iframe src=https://docs.python.org/2/library/re.html width=800 height=600></iframe>')"
   ]
  },
  {
   "cell_type": "markdown",
   "metadata": {},
   "source": [
    "<p><a name=\"example\"></a></p>\n",
    "## Example: wordCount\n",
    "[[back to top]](#sections)\n",
    "\n",
    "\n",
    "Now let's rewrite a function wordCount."
   ]
  },
  {
   "cell_type": "code",
   "execution_count": 22,
   "metadata": {
    "collapsed": true
   },
   "outputs": [],
   "source": [
    "import re\n",
    "def wordCount(x, number=False):\n",
    "    '''\n",
    "    x: string to count\n",
    "    number: whether to count the numbers\n",
    "    '''\n",
    "    ## tolower and find words\n",
    "    x = x.lower()\n",
    "    if number:\n",
    "        word_list = re.findall('\\w+', x)\n",
    "    else:\n",
    "        word_list = re.findall('[a-zA-Z]+', x)\n",
    "    ## count and return\n",
    "    result = {}\n",
    "    for word in word_list:\n",
    "        if word in result.keys():\n",
    "            result[word] += 1\n",
    "        else:\n",
    "            result[word] = 1\n",
    "    return result "
   ]
  },
  {
   "cell_type": "code",
   "execution_count": 23,
   "metadata": {
    "collapsed": false
   },
   "outputs": [
    {
     "data": {
      "text/plain": [
       "{'added': 1,\n",
       " 'and': 1,\n",
       " 'came': 1,\n",
       " 'completely': 1,\n",
       " 'earlier': 1,\n",
       " 'emacs': 1,\n",
       " 'expression': 1,\n",
       " 'in': 2,\n",
       " 'module': 3,\n",
       " 'of': 1,\n",
       " 'patterns': 2,\n",
       " 'perl': 1,\n",
       " 'provided': 1,\n",
       " 'provides': 1,\n",
       " 'python': 3,\n",
       " 're': 1,\n",
       " 'regex': 2,\n",
       " 'regular': 1,\n",
       " 'removed': 1,\n",
       " 'style': 2,\n",
       " 'the': 3,\n",
       " 'versions': 1,\n",
       " 'was': 2,\n",
       " 'which': 1,\n",
       " 'with': 1}"
      ]
     },
     "execution_count": 23,
     "metadata": {},
     "output_type": "execute_result"
    }
   ],
   "source": [
    "wordCount(s)"
   ]
  }
 ],
 "metadata": {
  "anaconda-cloud": {},
  "kernelspec": {
   "display_name": "Python [python2]",
   "language": "python",
   "name": "Python [python2]"
  },
  "language_info": {
   "codemirror_mode": {
    "name": "ipython",
    "version": 2
   },
   "file_extension": ".py",
   "mimetype": "text/x-python",
   "name": "python",
   "nbconvert_exporter": "python",
   "pygments_lexer": "ipython2",
   "version": "2.7.12"
  }
 },
 "nbformat": 4,
 "nbformat_minor": 0
}
