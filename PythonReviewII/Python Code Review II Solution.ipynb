{
 "cells": [
  {
   "cell_type": "markdown",
   "metadata": {},
   "source": [
    "### 1. Regular Expression\n",
    "In this exercise, you need to handle a file 'record.txt', which is filled with chat records.\n",
    "The first 5 lines look like this:"
   ]
  },
  {
   "cell_type": "code",
   "execution_count": 12,
   "metadata": {
    "collapsed": false
   },
   "outputs": [
    {
     "name": "stdout",
     "output_type": "stream",
     "text": [
      "Jack 17:26:46\r\n",
      "The slogan duplicates a bliss after the plastic accent.\r\n",
      "Michael 17:26:47\r\n",
      "A tidied successor enlightens the advertised contract.\r\n",
      "William 17:26:48\r\n",
      "The secondary freedom matures beneath your suitable tip.\r\n",
      "John 17:26:50\r\n",
      "A wonderful newcomer expires on top of a cryptic entrance.\r\n",
      "William 17:26:51\r\n",
      "A bastard degenerates before the chorus!\r\n"
     ]
    }
   ],
   "source": [
    "!head ./record.txt"
   ]
  },
  {
   "cell_type": "markdown",
   "metadata": {},
   "source": [
    "Each line is either a sentence or a people's name followed with the time. Your task is finding out :\n",
    "\n",
    "    - names of people appear in this chat record.\n",
    "    - how many messages each person sent, and sort them in descending order.\n",
    "    \n",
    "The result looks like:\n",
    "\n",
    "    \n",
    "    [('Emily', 122), ('John', 99), ('Michael', 98), ('William', 91), ('Jack', 90), ('Elizabeth', 89), ('Emma', 87), ('Mary', 86), ('Jayden', 83), ('Daniel', 77)]"
   ]
  },
  {
   "cell_type": "code",
   "execution_count": 5,
   "metadata": {
    "collapsed": false
   },
   "outputs": [
    {
     "name": "stdout",
     "output_type": "stream",
     "text": [
      "[('Emily', 122), ('John', 99), ('Michael', 98), ('William', 91), ('Jack', 90), ('Elizabeth', 89), ('Emma', 87), ('Mary', 86), ('Jayden', 83), ('Daniel', 77)]\n"
     ]
    }
   ],
   "source": [
    "import re\n",
    "### Write your codes here\n",
    "with open('record.txt', 'r') as f:\n",
    "    dic = {}\n",
    "    for line in f.readlines():\n",
    "        if re.search('[0-9]$', line):\n",
    "            name = line.split(' ')[0]\n",
    "            if name in dic:\n",
    "                dic[name] += 1\n",
    "            else:\n",
    "                dic[name] = 1\n",
    "dic = sorted(dic.items(), key = lambda x: x[1], reverse = True)\n",
    "print dic"
   ]
  },
  {
   "cell_type": "markdown",
   "metadata": {},
   "source": [
    "### 2. Best Time to Buy and Sell Stock\n",
    "Say you have an array for which the ith element is the price of a given stock on day i.\n",
    "\n",
    "If you were only permitted to complete at most one transaction (ie, buy one and sell one share of the stock), design an algorithm to find the maximum profit."
   ]
  },
  {
   "cell_type": "code",
   "execution_count": 19,
   "metadata": {
    "collapsed": true
   },
   "outputs": [],
   "source": [
    "def maxProfit(prices):\n",
    "    # Write your code here\n",
    "    if not prices:\n",
    "        return 0\n",
    "    minPrice, diff = 10**10, -10**10\n",
    "    for price in prices:\n",
    "        minPrice = min(minPrice, price)\n",
    "        diff = max(diff, price - minPrice)\n",
    "    return diff"
   ]
  },
  {
   "cell_type": "code",
   "execution_count": 21,
   "metadata": {
    "collapsed": false
   },
   "outputs": [
    {
     "data": {
      "text/plain": [
       "13.0"
      ]
     },
     "execution_count": 21,
     "metadata": {},
     "output_type": "execute_result"
    }
   ],
   "source": [
    "maxProfit([27.5, 14.6, 7.8, 20.8, 2.2])"
   ]
  },
  {
   "cell_type": "code",
   "execution_count": 22,
   "metadata": {
    "collapsed": false
   },
   "outputs": [
    {
     "data": {
      "text/plain": [
       "0.0"
      ]
     },
     "execution_count": 22,
     "metadata": {},
     "output_type": "execute_result"
    }
   ],
   "source": [
    "maxProfit([10.0, 8.0, 6.0, 4.0, 2.0])"
   ]
  },
  {
   "cell_type": "code",
   "execution_count": 20,
   "metadata": {
    "collapsed": false
   },
   "outputs": [
    {
     "data": {
      "text/plain": [
       "8.0"
      ]
     },
     "execution_count": 20,
     "metadata": {},
     "output_type": "execute_result"
    }
   ],
   "source": [
    "maxProfit([2.0, 4.0, 5.0, 3.0, 10.0])"
   ]
  },
  {
   "cell_type": "markdown",
   "metadata": {},
   "source": [
    "### 3. Two Sum\n",
    "\n",
    "+ Given an array of integers, return indices of the two numbers such that they add up to a specific target.\n",
    "\n",
    "+ You may assume that each input would have exactly one solution.\n",
    "\n",
    "**Example:**\n",
    "\n",
    "Given nums = [2, 7, 11, 15], target = 9,\n",
    "\n",
    "Because nums[0] + nums[1] = 2 + 7 = 9,\n",
    "return [0, 1]."
   ]
  },
  {
   "cell_type": "code",
   "execution_count": 1,
   "metadata": {
    "collapsed": true
   },
   "outputs": [],
   "source": [
    "def twoSum(nums, target):\n",
    "    # Write you code here\n",
    "    d = {}\n",
    "    for i, e in enumerate(nums):\n",
    "        if e in d:\n",
    "            return d[e], i\n",
    "        d[target - e] = i"
   ]
  },
  {
   "cell_type": "code",
   "execution_count": 5,
   "metadata": {
    "collapsed": false
   },
   "outputs": [
    {
     "data": {
      "text/plain": [
       "(0, 1)"
      ]
     },
     "execution_count": 5,
     "metadata": {},
     "output_type": "execute_result"
    }
   ],
   "source": [
    "twoSum([2, 7, 11, 15], 9)"
   ]
  },
  {
   "cell_type": "code",
   "execution_count": 6,
   "metadata": {
    "collapsed": false
   },
   "outputs": [
    {
     "data": {
      "text/plain": [
       "(2, 4)"
      ]
     },
     "execution_count": 6,
     "metadata": {},
     "output_type": "execute_result"
    }
   ],
   "source": [
    "twoSum([1, 3, 4, 6, 4], 8)"
   ]
  },
  {
   "cell_type": "markdown",
   "metadata": {},
   "source": [
    "### 4. Best Time to Buy and Sell Stock II (Homework)\n",
    "Say you have an array for which the ith element is the price of a given stock on day i.\n",
    "\n",
    "Design an algorithm to find the maximum profit. You may complete as many transactions as you like (ie, buy one and sell one share of the stock multiple times). However, you may not engage in multiple transactions at the same time (ie, you must sell the stock before you buy again)."
   ]
  },
  {
   "cell_type": "code",
   "execution_count": 12,
   "metadata": {
    "collapsed": true
   },
   "outputs": [],
   "source": [
    "def maxProfit2(prices):\n",
    "    profit = 0\n",
    "    for i in range(len(prices)-1):\n",
    "        if prices[i] < prices[i+1]:\n",
    "            profit += prices[i+1] - prices[i]\n",
    "    return profit"
   ]
  },
  {
   "cell_type": "code",
   "execution_count": 13,
   "metadata": {
    "collapsed": false
   },
   "outputs": [
    {
     "data": {
      "text/plain": [
       "20.1"
      ]
     },
     "execution_count": 13,
     "metadata": {},
     "output_type": "execute_result"
    }
   ],
   "source": [
    "maxProfit2([7.5, 14.6, 7.8, 20.8, 2.2])"
   ]
  },
  {
   "cell_type": "code",
   "execution_count": 16,
   "metadata": {
    "collapsed": false
   },
   "outputs": [
    {
     "data": {
      "text/plain": [
       "10.0"
      ]
     },
     "execution_count": 16,
     "metadata": {},
     "output_type": "execute_result"
    }
   ],
   "source": [
    "maxProfit2([2.0, 4.0, 5.0, 3.0, 10.0])"
   ]
  },
  {
   "cell_type": "markdown",
   "metadata": {},
   "source": [
    "### 5. Longest Common Prefix (Homework)\n",
    "\n",
    "Write a function to find the longest common prefix string amongst an array of strings."
   ]
  },
  {
   "cell_type": "code",
   "execution_count": 148,
   "metadata": {
    "collapsed": false
   },
   "outputs": [],
   "source": [
    "def longestCommonPrefix(strs):\n",
    "    if not strs:\n",
    "        return \"\"\n",
    "    res = strs[0]\n",
    "    for string in strs[1:]:\n",
    "        i = 0\n",
    "        while i < min(len(string), len(res)) and string[i] == res[i]:\n",
    "            i += 1\n",
    "        res = res[:i]\n",
    "    return res\n",
    "\n",
    "\n",
    "# Tricky solution\n",
    "def longestCommonPrefix2(strs):\n",
    "    if not strs:\n",
    "        return \"\"\n",
    "    \n",
    "    for i, letter_group in enumerate(zip(*strs)):\n",
    "        if len(set(letter_group)) > 1:\n",
    "            return strs[0][:i]\n",
    "    else:\n",
    "        return min(strs)"
   ]
  },
  {
   "cell_type": "code",
   "execution_count": 149,
   "metadata": {
    "collapsed": false
   },
   "outputs": [
    {
     "data": {
      "text/plain": [
       "'a'"
      ]
     },
     "execution_count": 149,
     "metadata": {},
     "output_type": "execute_result"
    }
   ],
   "source": [
    "longestCommonPrefix([\"aa\", \"a\"])"
   ]
  },
  {
   "cell_type": "code",
   "execution_count": 150,
   "metadata": {
    "collapsed": false
   },
   "outputs": [
    {
     "data": {
      "text/plain": [
       "''"
      ]
     },
     "execution_count": 150,
     "metadata": {},
     "output_type": "execute_result"
    }
   ],
   "source": [
    "longestCommonPrefix([\"a\", \"b\"])"
   ]
  },
  {
   "cell_type": "code",
   "execution_count": 151,
   "metadata": {
    "collapsed": false
   },
   "outputs": [
    {
     "data": {
      "text/plain": [
       "'ab'"
      ]
     },
     "execution_count": 151,
     "metadata": {},
     "output_type": "execute_result"
    }
   ],
   "source": [
    "longestCommonPrefix([\"abf3fd\", \"ab24b\", \"ab324n\"])"
   ]
  },
  {
   "cell_type": "code",
   "execution_count": null,
   "metadata": {
    "collapsed": true
   },
   "outputs": [],
   "source": []
  }
 ],
 "metadata": {
  "kernelspec": {
   "display_name": "Python 2",
   "language": "python",
   "name": "python2"
  },
  "language_info": {
   "codemirror_mode": {
    "name": "ipython",
    "version": 2
   },
   "file_extension": ".py",
   "mimetype": "text/x-python",
   "name": "python",
   "nbconvert_exporter": "python",
   "pygments_lexer": "ipython2",
   "version": "2.7.11"
  }
 },
 "nbformat": 4,
 "nbformat_minor": 0
}
