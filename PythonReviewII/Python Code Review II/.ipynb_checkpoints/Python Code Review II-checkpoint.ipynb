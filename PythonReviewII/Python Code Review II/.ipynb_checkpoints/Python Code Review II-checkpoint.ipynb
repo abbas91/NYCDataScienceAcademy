{
 "cells": [
  {
   "cell_type": "markdown",
   "metadata": {},
   "source": [
    "### 1. Regular Expression\n",
    "In this exercise, you need to handle a file 'record.txt', which is filled with chat records.\n",
    "The first 5 lines look like this:"
   ]
  },
  {
   "cell_type": "code",
   "execution_count": 12,
   "metadata": {
    "collapsed": false
   },
   "outputs": [
    {
     "name": "stdout",
     "output_type": "stream",
     "text": [
      "Jack 17:26:46\r\n",
      "The slogan duplicates a bliss after the plastic accent.\r\n",
      "Michael 17:26:47\r\n",
      "A tidied successor enlightens the advertised contract.\r\n",
      "William 17:26:48\r\n",
      "The secondary freedom matures beneath your suitable tip.\r\n",
      "John 17:26:50\r\n",
      "A wonderful newcomer expires on top of a cryptic entrance.\r\n",
      "William 17:26:51\r\n",
      "A bastard degenerates before the chorus!\r\n"
     ]
    }
   ],
   "source": [
    "!head ./record.txt"
   ]
  },
  {
   "cell_type": "markdown",
   "metadata": {},
   "source": [
    "Each line is either a sentence or a people's name followed with the time. Your task is finding out :\n",
    "\n",
    "    - names of people appear in this chat record.\n",
    "    - how many messages each person sent, and sort them in descending order.\n",
    "    \n",
    "The result looks like:\n",
    "\n",
    "    \n",
    "    [('Emily', 122), ('John', 99), ('Michael', 98), ('William', 91), ('Jack', 90), ('Elizabeth', 89), ('Emma', 87), ('Mary', 86), ('Jayden', 83), ('Daniel', 77)]"
   ]
  },
  {
   "cell_type": "code",
   "execution_count": 15,
   "metadata": {
    "collapsed": false
   },
   "outputs": [
    {
     "name": "stdout",
     "output_type": "stream",
     "text": [
      "[('Emily', 122), ('John', 99), ('Michael', 98), ('William', 91), ('Jack', 90), ('Elizabeth', 89), ('Emma', 87), ('Mary', 86), ('Jayden', 83), ('Daniel', 77)]\n"
     ]
    }
   ],
   "source": [
    "import re\n",
    "# Write your codes here"
   ]
  },
  {
   "cell_type": "markdown",
   "metadata": {},
   "source": [
    "### 2. Best Time to Buy and Sell Stock\n",
    "Say you have an array for which the ith element is the price of a given stock on day i.\n",
    "\n",
    "If you were only permitted to complete at most one transaction (ie, buy one and sell one share of the stock), design an algorithm to find the maximum profit."
   ]
  },
  {
   "cell_type": "code",
   "execution_count": 1,
   "metadata": {
    "collapsed": true
   },
   "outputs": [],
   "source": [
    "def maxProfit(prices):\n",
    "    # Write your code here"
   ]
  },
  {
   "cell_type": "code",
   "execution_count": 2,
   "metadata": {
    "collapsed": false
   },
   "outputs": [
    {
     "data": {
      "text/plain": [
       "13.0"
      ]
     },
     "execution_count": 2,
     "metadata": {},
     "output_type": "execute_result"
    }
   ],
   "source": [
    "maxProfit([27.5, 14.6, 7.8, 20.8, 2.2])"
   ]
  },
  {
   "cell_type": "code",
   "execution_count": 3,
   "metadata": {
    "collapsed": false
   },
   "outputs": [
    {
     "data": {
      "text/plain": [
       "0.0"
      ]
     },
     "execution_count": 3,
     "metadata": {},
     "output_type": "execute_result"
    }
   ],
   "source": [
    "maxProfit([10.0, 8.0, 6.0, 4.0, 2.0])"
   ]
  },
  {
   "cell_type": "markdown",
   "metadata": {},
   "source": [
    "### 3. Two Sum\n",
    "\n",
    "+ Given an array of integers, return indices of the two numbers such that they add up to a specific target.\n",
    "\n",
    "+ You may assume that each input would have exactly one solution.\n",
    "\n",
    "**Example:**\n",
    "\n",
    "Given nums = [2, 7, 11, 15], target = 9,\n",
    "\n",
    "Because nums[0] + nums[1] = 2 + 7 = 9,\n",
    "return [0, 1]."
   ]
  },
  {
   "cell_type": "code",
   "execution_count": 4,
   "metadata": {
    "collapsed": true
   },
   "outputs": [],
   "source": [
    "def twoSum(nums, target):\n",
    "    # Write you code here"
   ]
  },
  {
   "cell_type": "code",
   "execution_count": 5,
   "metadata": {
    "collapsed": false
   },
   "outputs": [
    {
     "data": {
      "text/plain": [
       "(0, 1)"
      ]
     },
     "execution_count": 5,
     "metadata": {},
     "output_type": "execute_result"
    }
   ],
   "source": [
    "twoSum([2, 7, 11, 15], 9)"
   ]
  },
  {
   "cell_type": "code",
   "execution_count": null,
   "metadata": {
    "collapsed": true
   },
   "outputs": [],
   "source": []
  }
 ],
 "metadata": {
  "kernelspec": {
   "display_name": "Python 2",
   "language": "python",
   "name": "python2"
  },
  "language_info": {
   "codemirror_mode": {
    "name": "ipython",
    "version": 2
   },
   "file_extension": ".py",
   "mimetype": "text/x-python",
   "name": "python",
   "nbconvert_exporter": "python",
   "pygments_lexer": "ipython2",
   "version": "2.7.11"
  }
 },
 "nbformat": 4,
 "nbformat_minor": 0
}
