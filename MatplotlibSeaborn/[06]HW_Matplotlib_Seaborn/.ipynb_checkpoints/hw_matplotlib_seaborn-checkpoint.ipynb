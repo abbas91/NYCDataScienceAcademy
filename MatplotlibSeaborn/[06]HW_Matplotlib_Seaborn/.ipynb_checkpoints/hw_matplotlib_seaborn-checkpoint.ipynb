{
 "cells": [
  {
   "cell_type": "markdown",
   "metadata": {},
   "source": [
    "## Question 1"
   ]
  },
  {
   "cell_type": "code",
   "execution_count": 1,
   "metadata": {
    "collapsed": false
   },
   "outputs": [],
   "source": [
    "import numpy as np\n",
    "import pandas as pd\n",
    "import matplotlib.pyplot as plt\n",
    "%matplotlib inline"
   ]
  },
  {
   "cell_type": "markdown",
   "metadata": {
    "slideshow": {
     "slide_type": "slide"
    }
   },
   "source": [
    "(1) Read [bnames.csv](http://nycdatascience.com/slides/BOOTCAMP2/content/classData/python/bnames.csv) and [births.csv](http://nycdatascience.com/slides/BOOTCAMP2/content/classData/python/births.csv) using Pandas (the data is downloadable and also in the exercise.zip). Then print out the first 5 rows."
   ]
  },
  {
   "cell_type": "code",
   "execution_count": 2,
   "metadata": {
    "collapsed": false
   },
   "outputs": [
    {
     "name": "stdout",
     "output_type": "stream",
     "text": [
      "\"year\",\"name\",\"prop\",\"sex\",\"soundex\"\r\n",
      "1880,\"John\",0.081541,\"boy\",\"J500\"\r\n",
      "1880,\"William\",0.080511,\"boy\",\"W450\"\r\n"
     ]
    }
   ],
   "source": [
    "!head -3 ./bnames.csv "
   ]
  },
  {
   "cell_type": "code",
   "execution_count": 3,
   "metadata": {
    "collapsed": false
   },
   "outputs": [
    {
     "name": "stdout",
     "output_type": "stream",
     "text": [
      "\"year\",\"sex\",\"births\"\r\n",
      "\"1880\",\"boy\",118405\r\n",
      "\"1881\",\"boy\",108290\r\n"
     ]
    }
   ],
   "source": [
    "!head -3 ./births.csv"
   ]
  },
  {
   "cell_type": "code",
   "execution_count": 4,
   "metadata": {
    "collapsed": false
   },
   "outputs": [],
   "source": [
    "### write your codes here"
   ]
  },
  {
   "cell_type": "markdown",
   "metadata": {},
   "source": [
    "(2) \n",
    "\n",
    "- a. How many times did a `name` reach a `prop` greater than 0.01 after the `year` 2000?\n",
    "- b. Find all of the girls born in 1900 or 2000."
   ]
  },
  {
   "cell_type": "code",
   "execution_count": 6,
   "metadata": {
    "collapsed": false
   },
   "outputs": [],
   "source": [
    "### write your codes here"
   ]
  },
  {
   "cell_type": "markdown",
   "metadata": {},
   "source": [
    "(3) \n",
    "\n",
    "- a. Extract your name from the dataset bnames, then sort by the column `year`. Print out the first 5 rows.\n",
    "- b. Plot the trend of `prop` over `year`."
   ]
  },
  {
   "cell_type": "code",
   "execution_count": 7,
   "metadata": {
    "collapsed": false
   },
   "outputs": [],
   "source": [
    "### write your codes here"
   ]
  },
  {
   "cell_type": "markdown",
   "metadata": {},
   "source": [
    "(4) \n",
    "\n",
    "- a. Create a new DataFrame names `bnames2` which combines `bnames` and `birth` together. (using the `left` merge, and put `bnames` on the left).\n",
    "- b. Add a new column named `num` which is the product of column `prop` and column `births`(using the function `np.round` to convert to int)."
   ]
  },
  {
   "cell_type": "code",
   "execution_count": 8,
   "metadata": {
    "collapsed": false
   },
   "outputs": [],
   "source": [
    "### write your codes here"
   ]
  },
  {
   "cell_type": "markdown",
   "metadata": {},
   "source": [
    "(5) Answer following questions using the new DataFrame `bnames2`.\n",
    "\n",
    "- a. Calculate the total number of babies in each soundex. What is the most popular soundex?\n",
    "- b. Calculate the total number of boys and the total number of girls for each year."
   ]
  },
  {
   "cell_type": "code",
   "execution_count": 9,
   "metadata": {
    "collapsed": false
   },
   "outputs": [],
   "source": [
    "### write your codes here"
   ]
  }
 ],
 "metadata": {
  "celltoolbar": "Raw Cell Format",
  "kernelspec": {
   "display_name": "Python 2",
   "language": "python",
   "name": "python2"
  },
  "language_info": {
   "codemirror_mode": {
    "name": "ipython",
    "version": 2
   },
   "file_extension": ".py",
   "mimetype": "text/x-python",
   "name": "python",
   "nbconvert_exporter": "python",
   "pygments_lexer": "ipython2",
   "version": "2.7.10"
  }
 },
 "nbformat": 4,
 "nbformat_minor": 0
}
