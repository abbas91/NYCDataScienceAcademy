{
 "cells": [
  {
   "cell_type": "markdown",
   "metadata": {},
   "source": [
    "###  Matrix\n",
    "\n",
    "Implement the a matrix class based on nested lists. (So don't use Numpy)\n",
    "\n",
    "```python\n",
    "class Matrix(object):\n",
    "    def __init__(self, nest_lst):\n",
    "    \n",
    "        \n",
    "    def __str__(self):\n",
    "        ### How to print out a matrix properly?\n",
    "        \n",
    "    \n",
    "    def get_row(self, ind):\n",
    "        ### get the row once index is provided\n",
    "        ### Make sure the Matrix type is kept\n",
    "        \n",
    "    \n",
    "    def get_col(self, ind):\n",
    "        ### get the column once index is provided\n",
    "        ### Make sure the Matrix type is kept\n",
    "    \n",
    "    \n",
    "    def __getitem__(self, key): \n",
    "        ### __getitem__ allows users to access data with \"[]\"\n",
    "        ### You might want to look up the documentation to implement \":\"\n",
    "        ### so that we can slice the matrix with A[:,0], A[0,:]..., etc\n",
    "        ### This might not be easy.\n",
    "        \n",
    "    \n",
    "    def __eq__(self, other):\n",
    "        ### equality between matrices.\n",
    "    \n",
    "    \n",
    "    def __add__(self, other):\n",
    "        ### adding two matrices\n",
    "        \n",
    "        \n",
    "    def T(self):\n",
    "        ### You can use reduce; or you can try to look up *args for Python\n",
    " \n",
    "    \n",
    "    def __mul__(self, other):\n",
    "        ### Multiplication of matrices\n",
    "   \n",
    "```"
   ]
  },
  {
   "cell_type": "code",
   "execution_count": 5,
   "metadata": {
    "collapsed": false
   },
   "outputs": [],
   "source": [
    "#### Your code here\n",
    "\n",
    "class Matrix(object):\n",
    "    def __init__(self, nest_lst):\n",
    "        self.mat = nest_lst\n",
    "        self.__dim = (len(nest_lst), len(nest_lst[0]))\n",
    "        \n",
    "    def __str__(self):\n",
    "        return '['+ ' '.join(map(lambda row: str(row)+'\\n',self.mat)).strip()+ ']'\n",
    "    \n",
    "    def __getitem__(self, tup):\n",
    "        if isinstance(tup[0],int):\n",
    "            s0 = slice(tup[0], tup[0]+1)\n",
    "        else:\n",
    "            s0 = tup[0]\n",
    "            \n",
    "        if isinstance(tup[1],int):\n",
    "            s1 = slice(tup[1], tup[1]+1)\n",
    "        else:\n",
    "            s1 = tup[1]\n",
    "        \n",
    "        return Matrix(map(lambda inner: inner[s1], self.mat[s0]))\n",
    "        \n",
    "    def get_row(self, ind):\n",
    "        return Matrix([self.mat[ind]])\n",
    "    \n",
    "    def get_col(self, ind):\n",
    "        return Matrix(map(lambda row: [row[ind]], self.mat))\n",
    "    \n",
    "    def __eq__(self, other):\n",
    "        M1= self.mat\n",
    "        M2= other.mat\n",
    "        return M1==M2\n",
    "    \n",
    "    def __add__(self, other):\n",
    "        return Matrix(map(lambda row1, row2:map(lambda x, y: x+y, row1, row2),\\\n",
    "                            self.mat, other.mat))\n",
    "    \n",
    "    def T(self):\n",
    "        return Matrix(map(lambda x: list(x), zip(*(self.mat))))\n",
    "    \n",
    "    #### Alternative ####\n",
    "    def TT(self):\n",
    "        start = map(lambda x: [], range(self.__dim[1]))\n",
    "        return Matrix(reduce(lambda row, current: map(lambda y, x: y+[x], row, current),\\\n",
    "                             self.mat, start))\n",
    "    \n",
    "    def __mul__(self, other):\n",
    "        M1= self.mat\n",
    "        M2= other.T().mat\n",
    "        \n",
    "        def inner(row, col):\n",
    "            return sum(map(lambda x,y:x*y,row, col))\n",
    "        \n",
    "        return Matrix(map(lambda row1:map(lambda col2:inner(row1, col2),M2),M1))"
   ]
  },
  {
   "cell_type": "code",
   "execution_count": 6,
   "metadata": {
    "collapsed": false
   },
   "outputs": [
    {
     "name": "stdout",
     "output_type": "stream",
     "text": [
      "[[1, 2, 3, 4]\n",
      " [5, 6, 7, 8]]\n",
      "\n",
      "\n",
      "[[5, 6, 7, 8]\n",
      " [1, 2, 3, 4]]\n",
      "\n",
      "\n",
      "[[1, 2]\n",
      " [3, 4]\n",
      " [5, 6]\n",
      " [7, 8]]\n"
     ]
    }
   ],
   "source": [
    "#### Test on creating and printing\n",
    "A = Matrix([[1,2,3,4],[5,6,7,8]])\n",
    "B = Matrix([[5,6,7,8],[1,2,3,4]])\n",
    "C = Matrix([[1,2],[3,4],[5,6],[7,8]])\n",
    "print A\n",
    "print '\\n'\n",
    "print B\n",
    "print '\\n'\n",
    "print C"
   ]
  },
  {
   "cell_type": "code",
   "execution_count": 7,
   "metadata": {
    "collapsed": false
   },
   "outputs": [
    {
     "name": "stdout",
     "output_type": "stream",
     "text": [
      "[[1, 2, 3, 4]]\n",
      "\n",
      "\n",
      "[[3]\n",
      " [7]]\n"
     ]
    }
   ],
   "source": [
    "#### Test on get_row and get_col:\n",
    "print A.get_row(0)\n",
    "print '\\n'\n",
    "print A.get_col(2)"
   ]
  },
  {
   "cell_type": "code",
   "execution_count": 8,
   "metadata": {
    "collapsed": false
   },
   "outputs": [
    {
     "name": "stdout",
     "output_type": "stream",
     "text": [
      "Get elements\n",
      "[[1]]\n",
      "\n",
      "Get rows\n",
      "[[1, 2, 3, 4]]\n",
      "[[1, 2, 3]]\n",
      "[[2, 3, 4]]\n",
      "[[2, 3]]\n",
      "[[4, 3, 2, 1]]\n",
      "\n",
      "Get columns\n",
      "[[1]\n",
      " [5]]\n",
      "[[1]]\n"
     ]
    }
   ],
   "source": [
    "#### Test on __getitem__:\n",
    "print 'Get elements'\n",
    "print A[0,0]\n",
    "\n",
    "print '\\nGet rows'\n",
    "print A[0,:]\n",
    "print A[0,:3]\n",
    "print A[0,1:]\n",
    "print A[0,1:3]\n",
    "print A[0, ::-1]\n",
    "\n",
    "print '\\nGet columns'\n",
    "print A[:,0]\n",
    "print A[:1, 0]"
   ]
  },
  {
   "cell_type": "code",
   "execution_count": 9,
   "metadata": {
    "collapsed": false
   },
   "outputs": [
    {
     "name": "stdout",
     "output_type": "stream",
     "text": [
      "True\n",
      "False\n"
     ]
    }
   ],
   "source": [
    "#### Test on equality\n",
    "print A==A\n",
    "print A==B"
   ]
  },
  {
   "cell_type": "code",
   "execution_count": 10,
   "metadata": {
    "collapsed": false
   },
   "outputs": [
    {
     "name": "stdout",
     "output_type": "stream",
     "text": [
      "[[6, 8, 10, 12]\n",
      " [6, 8, 10, 12]]\n",
      "[[50, 60]\n",
      " [114, 140]]\n"
     ]
    }
   ],
   "source": [
    "#### Test on addition and Multiplication\n",
    "print A + B\n",
    "print A*C"
   ]
  },
  {
   "cell_type": "code",
   "execution_count": 11,
   "metadata": {
    "collapsed": false
   },
   "outputs": [
    {
     "name": "stdout",
     "output_type": "stream",
     "text": [
      "[[1, 5]\n",
      " [2, 6]\n",
      " [3, 7]\n",
      " [4, 8]]\n",
      "\n",
      "\n",
      "[[1, 3, 5, 7]\n",
      " [2, 4, 6, 8]]\n"
     ]
    }
   ],
   "source": [
    "#### Test on transpose\n",
    "print A.T()\n",
    "print '\\n'\n",
    "print C.T()"
   ]
  }
 ],
 "metadata": {
  "anaconda-cloud": {},
  "kernelspec": {
   "display_name": "Python [Root]",
   "language": "python",
   "name": "Python [Root]"
  },
  "language_info": {
   "codemirror_mode": {
    "name": "ipython",
    "version": 2
   },
   "file_extension": ".py",
   "mimetype": "text/x-python",
   "name": "python",
   "nbconvert_exporter": "python",
   "pygments_lexer": "ipython2",
   "version": "2.7.11"
  }
 },
 "nbformat": 4,
 "nbformat_minor": 0
}
