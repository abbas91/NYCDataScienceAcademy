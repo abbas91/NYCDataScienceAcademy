{
 "cells": [
  {
   "cell_type": "markdown",
   "metadata": {},
   "source": [
    "### Matrix\n",
    "\n",
    "Implement the a matrix class based on nested lists. (So don't use Numpy)\n",
    "\n",
    "```python\n",
    "class Matrix(object):\n",
    "    def __init__(self, nest_lst):\n",
    "    \n",
    "        \n",
    "    def __str__(self):\n",
    "        ### How to print out a matrix properly?\n",
    "        \n",
    "    \n",
    "    def get_row(self, ind):\n",
    "        ### get the row once index is provided\n",
    "        ### Make sure the Matrix type is kept\n",
    "        \n",
    "    \n",
    "    def get_col(self, ind):\n",
    "        ### get the column once index is provided\n",
    "        ### Make sure the Matrix type is kept\n",
    "    \n",
    "    \n",
    "    def __getitem__(self, key): \n",
    "        ### __getitem__ allows users to access data with \"[]\"\n",
    "        ### You might want to look up the documentation to implement \":\"\n",
    "        ### so that we can slice the matrix with A[:,0], A[0,:]..., etc\n",
    "        ### This might not be easy.\n",
    "        \n",
    "    \n",
    "    def __eq__(self, other):\n",
    "        ### equality between matrices.\n",
    "    \n",
    "    \n",
    "    def __add__(self, other):\n",
    "        ### adding two matrices\n",
    "        \n",
    "        \n",
    "    def T(self):\n",
    "        ### You can use reduce; or you can try to look up *args for Python\n",
    " \n",
    "    \n",
    "    def __mul__(self, other):\n",
    "        ### Multiplication of matrices\n",
    "   \n",
    "```"
   ]
  },
  {
   "cell_type": "code",
   "execution_count": null,
   "metadata": {
    "collapsed": true
   },
   "outputs": [],
   "source": [
    "#### Your code here"
   ]
  },
  {
   "cell_type": "code",
   "execution_count": null,
   "metadata": {
    "collapsed": true
   },
   "outputs": [],
   "source": [
    "#### Test on creating and printing\n",
    "A = Matrix([[1,2,3,4],[5,6,7,8]])\n",
    "B = Matrix([[5,6,7,8],[1,2,3,4]])\n",
    "C = Matrix([[1,2],[3,4],[5,6],[7,8]])\n",
    "print A\n",
    "print '\\n'\n",
    "print B\n",
    "print '\\n'\n",
    "print C"
   ]
  },
  {
   "cell_type": "code",
   "execution_count": null,
   "metadata": {
    "collapsed": true
   },
   "outputs": [],
   "source": [
    "#### Test on get_row and get_col:\n",
    "print A.get_row(0)\n",
    "print '\\n'\n",
    "print A.get_col(2)"
   ]
  },
  {
   "cell_type": "code",
   "execution_count": null,
   "metadata": {
    "collapsed": true
   },
   "outputs": [],
   "source": [
    "#### Test on __getitem__:\n",
    "print 'Get elements'\n",
    "print A[0,0]\n",
    "\n",
    "print '\\nGet rows'\n",
    "print A[0,:]\n",
    "print A[0,:3]\n",
    "print A[0,1:]\n",
    "print A[0,1:3]\n",
    "print A[0, ::-1]\n",
    "\n",
    "print '\\nGet columns'\n",
    "print A[:,0]\n",
    "print A[:1, 0]"
   ]
  },
  {
   "cell_type": "code",
   "execution_count": null,
   "metadata": {
    "collapsed": true
   },
   "outputs": [],
   "source": [
    "#### Test on equality\n",
    "print A==A\n",
    "print A==B"
   ]
  },
  {
   "cell_type": "code",
   "execution_count": null,
   "metadata": {
    "collapsed": true
   },
   "outputs": [],
   "source": [
    "#### Test on addition and Multiplication\n",
    "print A + B\n",
    "print A*C"
   ]
  },
  {
   "cell_type": "code",
   "execution_count": null,
   "metadata": {
    "collapsed": true
   },
   "outputs": [],
   "source": [
    "#### Test on transpose\n",
    "print A.T()\n",
    "print '\\n'\n",
    "print C.T()"
   ]
  }
 ],
 "metadata": {
  "anaconda-cloud": {},
  "kernelspec": {
   "display_name": "Python [Root]",
   "language": "python",
   "name": "Python [Root]"
  },
  "language_info": {
   "codemirror_mode": {
    "name": "ipython",
    "version": 3
   },
   "file_extension": ".py",
   "mimetype": "text/x-python",
   "name": "python",
   "nbconvert_exporter": "python",
   "pygments_lexer": "ipython3",
   "version": "3.5.1"
  }
 },
 "nbformat": 4,
 "nbformat_minor": 0
}
