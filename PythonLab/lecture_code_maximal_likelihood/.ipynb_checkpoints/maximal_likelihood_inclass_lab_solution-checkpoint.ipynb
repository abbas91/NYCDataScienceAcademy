{
 "cells": [
  {
   "cell_type": "markdown",
   "metadata": {},
   "source": [
    "## Inclass Lab: Maximal Likelihood Estimate\n",
    "\n",
    "We demonstrated random sampling and how it can be used in our class of scipy. Now we are going to demonstrate a typical way to build a statistical model given datasets, again with scipy. We first import the modules we will use, the only one we haven't seen before is `scipy.optimize`. We will explain it when using it."
   ]
  },
  {
   "cell_type": "code",
   "execution_count": 2,
   "metadata": {
    "collapsed": true
   },
   "outputs": [],
   "source": [
    "import pandas as pd\n",
    "import numpy as np\n",
    "from scipy import stats\n",
    "from scipy import optimize\n",
    "import matplotlib.pyplot as plt\n",
    "%matplotlib inline"
   ]
  },
  {
   "cell_type": "markdown",
   "metadata": {},
   "source": [
    "Let's consider an oversimplified situation:\n",
    "\n",
    "Assume we collected a numerical data of length 10,000:\n",
    "\n",
    "\n",
    "data = \n",
    "\n",
    "  <b>  | 0\n",
    "-------|-------\n",
    "0      |89.730955\n",
    "1      |102.217494\n",
    "2      |111.303901\n",
    "3      |111.461852\n",
    "4      | 94.072657\n",
    "...    |...\n",
    "\n",
    "and we want to find the **normal distribution** that best matches the data."
   ]
  },
  {
   "cell_type": "markdown",
   "metadata": {},
   "source": [
    "- **Exercise 1** The data is saved in data.csv, load it to you work space:"
   ]
  },
  {
   "cell_type": "code",
   "execution_count": 3,
   "metadata": {
    "collapsed": true
   },
   "outputs": [],
   "source": [
    "#### Your code here\n",
    "data = pd.read_csv('data.csv', header=None)"
   ]
  },
  {
   "cell_type": "markdown",
   "metadata": {},
   "source": [
    "Before we actaully deal with the normal distributions and the data, let's consider a simpler case.\n",
    "\n",
    "- **Exercise 2** Create three normal distribution objects\n",
    "    - standard normal distribution\n",
    "    - mean = 0, standard deviation = 3\n",
    "    - mean = 3, standard deviation = 1"
   ]
  },
  {
   "cell_type": "code",
   "execution_count": 4,
   "metadata": {
    "collapsed": true
   },
   "outputs": [],
   "source": [
    "#### Your code here\n",
    "norm_1 = stats.norm(0, 1)\n",
    "norm_2 = stats.norm(0, 2)\n",
    "norm_3 = stats.norm(3, 1)"
   ]
  },
  {
   "cell_type": "markdown",
   "metadata": {},
   "source": [
    "- **Exercise 3** Consider the dataseet with only one observation: `x = np.array([3])`. What do each model \"says\" about the observation? How do we compute it?"
   ]
  },
  {
   "cell_type": "code",
   "execution_count": 5,
   "metadata": {
    "collapsed": false
   },
   "outputs": [
    {
     "name": "stdout",
     "output_type": "stream",
     "text": [
      "Each model predict the likelihood of the observation (in terms of the probability density)\n",
      "norm_1: 0.00443\n",
      "norm_2: 0.06476\n",
      "norm_3: 0.39894\n"
     ]
    }
   ],
   "source": [
    "#### Your code here\n",
    "ary = np.array([3])\n",
    "\n",
    "print 'Each model predict the likelihood of \\\n",
    "the observation (in terms of the probability density)'\n",
    "print 'norm_1: %.5f' % norm_1.pdf(ary)\n",
    "print 'norm_2: %.5f' % norm_2.pdf(ary)\n",
    "print 'norm_3: %.5f' % norm_3.pdf(ary)"
   ]
  },
  {
   "cell_type": "markdown",
   "metadata": {},
   "source": [
    "- **Demonstration**"
   ]
  },
  {
   "cell_type": "code",
   "execution_count": 6,
   "metadata": {
    "collapsed": false
   },
   "outputs": [
    {
     "data": {
      "text/plain": [
       "<matplotlib.legend.Legend at 0x11a2f66d0>"
      ]
     },
     "execution_count": 6,
     "metadata": {},
     "output_type": "execute_result"
    },
    {
     "data": {
      "image/png": "[encoded data removed]",
      "text/plain": [
       "<matplotlib.figure.Figure at 0x1168cde50>"
      ]
     },
     "metadata": {},
     "output_type": "display_data"
    }
   ],
   "source": [
    "point = np.linspace(-10, 10, 200)\n",
    "plt.plot(point, norm_1.pdf(point), label='mean=0, std=1', alpha=0.5)\n",
    "plt.plot(point, norm_2.pdf(point), label='mean=0, std=2', alpha=0.5)\n",
    "plt.plot(point, norm_3.pdf(point), label='mean=3, std=1')\n",
    "plt.vlines(3, 0, 0.4, colors='orange')\n",
    "plt.ylim(0, 0.4)\n",
    "plt.legend(loc=2)"
   ]
  },
  {
   "cell_type": "markdown",
   "metadata": {},
   "source": [
    "The yellow vertical line is not just an arbitrary line. It's actually the \"histogram\" of a dataset with only one observation."
   ]
  },
  {
   "cell_type": "code",
   "execution_count": 26,
   "metadata": {
    "collapsed": false
   },
   "outputs": [
    {
     "name": "stdout",
     "output_type": "stream",
     "text": [
      "\n"
     ]
    },
    {
     "data": {
      "image/png": "[encoded data removed]",
      "text/plain": [
       "<matplotlib.figure.Figure at 0x11c3fb910>"
      ]
     },
     "metadata": {},
     "output_type": "display_data"
    }
   ],
   "source": [
    "upb = 1  # Start from 1  \n",
    "x = np.array([0, upb])\n",
    "plt.hist(x, normed=True, bins=1, alpha=0.2, color='green')\n",
    "if upb > 1:\n",
    "    plt.ylim(0,1.1)               # This one is for growing range\n",
    "    plt.xlim(-0.1*upb, 1.1*upb)   # This one is also for growing range\n",
    "else:\n",
    "    plt.ylim(0,1.1/upb)          # This one is for shrinking range\n",
    "    plt.xlim(-0.5, 1.5)          # This one is also for shrinking range\n",
    "print"
   ]
  },
  {
   "cell_type": "markdown",
   "metadata": {},
   "source": [
    "- **Exercise 4** Now consider a dataset with two observations: `x=np.array([-2, 2])`. Now:\n",
    "    - Which model best fits `x=2`?\n",
    "    - Which model best fits `x=-2`?\n",
    "    - Which model is the best over all?"
   ]
  },
  {
   "cell_type": "code",
   "execution_count": 21,
   "metadata": {
    "collapsed": false
   },
   "outputs": [
    {
     "name": "stdout",
     "output_type": "stream",
     "text": [
      "The best model for x=2 is the norm_3\n"
     ]
    }
   ],
   "source": [
    "#### Your code here\n",
    "print 'The best model for x=2 is the norm_%d' % (np.argmax(np.array([norm_1.pdf(2),norm_2.pdf(2),norm_3.pdf(2)]))+1)"
   ]
  },
  {
   "cell_type": "code",
   "execution_count": 22,
   "metadata": {
    "collapsed": false
   },
   "outputs": [
    {
     "name": "stdout",
     "output_type": "stream",
     "text": [
      "The best model for x=-2 is the norm_2\n"
     ]
    }
   ],
   "source": [
    "#### Your code here\n",
    "print 'The best model for x=-2 is the norm_%d' % (np.argmax(np.array([norm_1.pdf(-2),norm_2.pdf(-2),norm_3.pdf(-2)]))+1)"
   ]
  },
  {
   "cell_type": "code",
   "execution_count": 23,
   "metadata": {
    "collapsed": false
   },
   "outputs": [
    {
     "name": "stdout",
     "output_type": "stream",
     "text": [
      "The best model overall is the norm_2\n"
     ]
    }
   ],
   "source": [
    "#### Your code here\n",
    "print 'The best model overall is the norm_%d' % (np.argmax(np.array([norm_1.pdf(2)*norm_1.pdf(-2),norm_2.pdf(2)*norm_2.pdf(-2),norm_3.pdf(2)*norm_3.pdf(-2)]))+1)"
   ]
  },
  {
   "cell_type": "markdown",
   "metadata": {},
   "source": [
    "** Exercise 5** Now we understand how **likelihood** is computed. Given a dataset $[x_1, x_2, ..., x_n]$ and a model, the likelihood is just:\n",
    "<br/><br/>\n",
    "$$\n",
    "\\text{model.pdf} (x_1) \\times \\text{model.pdf} (x_2) \\times...\\times \\text{model.pdf} (x_n)\n",
    "$$\n",
    "<br/><br/>\n",
    "Write this as a `likelihood` function to perform the computation, and then pass the model `norm_2` and the data below into it.\n",
    "- `data = np.linspace(-3, 3, 2)`\n",
    "- `data = np.linspace(-3, 3, 8)`\n",
    "- `data = np.linspace(-3, 3, 20)`\n",
    "\n",
    "Do you see some trend? Why does this happen?"
   ]
  },
  {
   "cell_type": "code",
   "execution_count": 24,
   "metadata": {
    "collapsed": false
   },
   "outputs": [
    {
     "name": "stdout",
     "output_type": "stream",
     "text": [
      "0.00419370189677\n",
      "5.29547232256e-08\n",
      "2.49763357699e-18\n"
     ]
    }
   ],
   "source": [
    "#### Your code here\n",
    "\n",
    "def likelihood(model, data):\n",
    "    return np.prod(model.pdf(data))\n",
    "\n",
    "print likelihood(norm_2, np.linspace(-3, 3, 2))\n",
    "print likelihood(norm_2, np.linspace(-3, 3, 8))\n",
    "print likelihood(norm_2, np.linspace(-3, 3, 20))"
   ]
  },
  {
   "cell_type": "markdown",
   "metadata": {},
   "source": [
    "**Exercise 6** The trend we saw in **Exercise 5** will result in numerical error for large dataset. Therefore, instead of **likelihood** function, we need to implement **log_likelihood** function.\n",
    "\n",
    "Given a dataset $[x_1, x_2, ..., x_n]$ and a model, the log likelihood is\n",
    "<br/><br/>\n",
    "$$\n",
    "\\text{log(model.pdf} (x_1)) + \\text{log(model.pdf} (x_2)) +...+ \\text{log(model.pdf} (x_n))\n",
    "$$\n",
    "\n",
    "Implement `log_likelihood`: "
   ]
  },
  {
   "cell_type": "code",
   "execution_count": 27,
   "metadata": {
    "collapsed": false
   },
   "outputs": [
    {
     "name": "stdout",
     "output_type": "stream",
     "text": [
      "-5.47417142753\n",
      "-16.7538285673\n",
      "-40.5311879595\n"
     ]
    }
   ],
   "source": [
    "#### Your code here\n",
    "\n",
    "def log_likelihood(model, data):\n",
    "    return sum(np.log(model.pdf(data)))\n",
    "\n",
    "print log_likelihood(norm_2, np.linspace(-3, 3, 2))\n",
    "print log_likelihood(norm_2, np.linspace(-3, 3, 8))\n",
    "print log_likelihood(norm_2, np.linspace(-3, 3, 20))"
   ]
  },
  {
   "cell_type": "markdown",
   "metadata": {},
   "source": [
    "**Exercise 7** It should be clear now that our goal is to find the model (why not data) that maximizes the log_likelihood function. That is to say, we want to find a `special_model` such that \n",
    "```python\n",
    "log_likelihood(special_model, data) > log_likelihood(model, data)\n",
    "```\n",
    "for any other `model`.\n",
    "\n",
    "However, to apply numerical method to find the argmax, the argument has to be numerical.\n",
    "\n",
    "That is to say, we will not be able to optimize our `log_likelihood` if we need to pass a model into the function instead of numbers. \n",
    "\n",
    "To fix the problem, consider the three models we have:\n",
    "```python\n",
    "norm_1 = stats.norm(0, 1)\n",
    "norm_2 = stats.norm(0, 2)\n",
    "norm_3 = stats.norm(3, 1)\n",
    "```\n",
    "\n",
    "Instead of ontaining the log likelohood by\n",
    "```python\n",
    "log_likelihood(norm_1, data)\n",
    "log_likelihood(norm_2, data)\n",
    "log_likelihood(norm_3, data)\n",
    "```\n",
    "\n",
    "We should be able to rewrite the definition of the function so that we can obtain the log likelihood by\n",
    "```python\n",
    "log_likelihood(mu_1, std_1, data)\n",
    "log_likelihood(mu_2, std_2, data)\n",
    "log_likelihood(mu_3, std_3, data)\n",
    "```\n",
    "\n",
    "Implement the new `log_likelihood`:"
   ]
  },
  {
   "cell_type": "code",
   "execution_count": 28,
   "metadata": {
    "collapsed": true
   },
   "outputs": [],
   "source": [
    "#### Your code here\n",
    "\n",
    "def log_likelihood(mu, std, data):\n",
    "    model = stats.norm(mu, std)\n",
    "    return sum(np.log(model.pdf(data)))"
   ]
  },
  {
   "cell_type": "markdown",
   "metadata": {},
   "source": [
    "The code below use the submodule `scipy.optimize` maximize the log likelihood. Here are couple things to be noted:\n",
    "\n",
    "- We actually used the **`minimize`** function to minimize the **negative** log likelihood.\n",
    "- The `minimize` function take three arguments, the target function, the initial points and the bounds.\n",
    "- The return of the `minimize` function is a dictionary-like object.\n",
    "\n",
    "**Question**\n",
    "- Is the result of `minimize` good? How do we check?\n",
    "- If the result is not good, what might have gone wrong? How do we fix it?"
   ]
  },
  {
   "cell_type": "code",
   "execution_count": 33,
   "metadata": {
    "collapsed": false
   },
   "outputs": [
    {
     "name": "stdout",
     "output_type": "stream",
     "text": [
      "[ 95.32583954  24.47608217]\n"
     ]
    }
   ],
   "source": [
    "#### Let's play with the optimize function\n",
    "\n",
    "bnds = ((0, None), (0, None))\n",
    "opt = optimize.minimize(lambda x: -1*log_likelihood(x[0], x[1], data=data),[40,40], bounds=bnds)\n",
    "print opt['x']"
   ]
  },
  {
   "cell_type": "code",
   "execution_count": 34,
   "metadata": {
    "collapsed": false
   },
   "outputs": [
    {
     "name": "stdout",
     "output_type": "stream",
     "text": [
      "The mean of the data is 100.01403\n",
      "The standard deviation of the data is 9.95023\n"
     ]
    }
   ],
   "source": [
    "#### Let's check if the result is good\n",
    "\n",
    "print 'The mean of the data is %.5f' % np.mean(data)\n",
    "print 'The standard deviation of the data is %.5f' % np.std(data)"
   ]
  },
  {
   "cell_type": "code",
   "execution_count": 29,
   "metadata": {
    "collapsed": false
   },
   "outputs": [
    {
     "data": {
      "text/plain": [
       "[<matplotlib.lines.Line2D at 0x106f86750>]"
      ]
     },
     "execution_count": 29,
     "metadata": {},
     "output_type": "execute_result"
    },
    {
     "data": {
      "image/png": "[encoded data removed]",
      "text/plain": [
       "<matplotlib.figure.Figure at 0x11a98f490>"
      ]
     },
     "metadata": {},
     "output_type": "display_data"
    }
   ],
   "source": [
    "plt.hist(data, bins=50, normed=True, alpha=0.3, color='green')\n",
    "my_norm = stats.norm(*opt['x'])\n",
    "point = np.linspace(20, 200, 100)\n",
    "plt.plot(point, my_norm.pdf(point))"
   ]
  },
  {
   "cell_type": "markdown",
   "metadata": {},
   "source": [
    "**Demonstration: Trap of Local Extrema**\n",
    "\n",
    "To understand the problem, we need to understand first how optimization are done, essentially. (Let's go to the attached file: grad_desc_animate.py)"
   ]
  },
  {
   "cell_type": "code",
   "execution_count": 30,
   "metadata": {
    "collapsed": false
   },
   "outputs": [
    {
     "data": {
      "text/plain": [
       "[<matplotlib.lines.Line2D at 0x11b142110>]"
      ]
     },
     "execution_count": 30,
     "metadata": {},
     "output_type": "execute_result"
    },
    {
     "data": {
      "image/png": "[encoded data removed]",
      "text/plain": [
       "<matplotlib.figure.Figure at 0x11ab90f10>"
      ]
     },
     "metadata": {},
     "output_type": "display_data"
    }
   ],
   "source": [
    "def test_func(x):\n",
    "    return 0.8*x**4 - 5*x**3 + 3*x**2 + 10*x\n",
    "\n",
    "point = np.linspace(-2, 5, 1000)\n",
    "plt.plot(point, test_func(point))"
   ]
  },
  {
   "cell_type": "code",
   "execution_count": 31,
   "metadata": {
    "collapsed": false
   },
   "outputs": [
    {
     "name": "stdout",
     "output_type": "stream",
     "text": [
      "[-0.61115287]\n",
      "[-0.61115288]\n",
      "----------------------------------------------------------------------\n",
      "[ 4.02977671]\n",
      "[ 4.02977691]\n"
     ]
    }
   ],
   "source": [
    "bnd = [(-2, 5)]\n",
    "print optimize.minimize(test_func, [0.0], bounds = bnd).x\n",
    "print optimize.minimize(test_func, [-1.5], bounds = bnd).x\n",
    "print '-'*70\n",
    "print optimize.minimize(test_func, [2], bounds = bnd).x\n",
    "print optimize.minimize(test_func, [4.5], bounds = bnd).x"
   ]
  },
  {
   "cell_type": "code",
   "execution_count": 32,
   "metadata": {
    "collapsed": false
   },
   "outputs": [
    {
     "name": "stdout",
     "output_type": "stream",
     "text": [
      "217.72040081\n",
      "[ 100.01401162    9.95032162]\n",
      "[-371653.41723252]\n"
     ]
    }
   ],
   "source": [
    "#### A (too) simple solution\n",
    "\n",
    "trial = 30\n",
    "bnds = [(0, None), (0, None)]\n",
    "maxi = -np.infty\n",
    "\n",
    "import time\n",
    "start = time.time()\n",
    "\n",
    "\n",
    "for i in range(trial):\n",
    "    init = np.random.rand(2)*100\n",
    "    opt = optimize.minimize(lambda x: -1*log_likelihood(x[0], x[1], data=data), init, bounds=bnds)\n",
    "    if -opt.fun > maxi:\n",
    "        maxi = -opt.fun\n",
    "        para = opt['x']\n",
    "        \n",
    "        \n",
    "print time.time() - start\n",
    "print para\n",
    "print maxi"
   ]
  },
  {
   "cell_type": "code",
   "execution_count": 33,
   "metadata": {
    "collapsed": false
   },
   "outputs": [
    {
     "data": {
      "text/plain": [
       "[<matplotlib.lines.Line2D at 0x11b124650>]"
      ]
     },
     "execution_count": 33,
     "metadata": {},
     "output_type": "execute_result"
    },
    {
     "data": {
      "image/png": "[encoded data removed]",
      "text/plain": [
       "<matplotlib.figure.Figure at 0x11b15a1d0>"
      ]
     },
     "metadata": {},
     "output_type": "display_data"
    }
   ],
   "source": [
    "#### Let's check the result again\n",
    "\n",
    "plt.hist(data, bins=50, normed=True, alpha=0.3, color='green')\n",
    "my_norm = stats.norm(*para)\n",
    "point = np.linspace(20, 200, 100)\n",
    "plt.plot(point, my_norm.pdf(point))"
   ]
  },
  {
   "cell_type": "markdown",
   "metadata": {
    "collapsed": true
   },
   "source": [
    "Assume we have data:\n",
    "\n",
    "$$\n",
    "x_1, x_2, ..., x_n\n",
    "$$\n",
    "\n",
    "Then the log-likelihood function would be:\n",
    "\n",
    "$$\n",
    "\\text{log_likelihood}(\\mu, \\sigma) = \\sum_{i=0}^n log \\Big( \\frac{1}{\\sqrt{2 \\sigma^2 \\pi}} \\exp \\big( \\frac{-(x_i-\\mu)^2 }{ 2 \\sigma^2 } \\big) \\Big)\\\\\n",
    "= \\sum_{i=0}^n -\\frac{1}{2} log( 2 \\sigma^2 \\pi ) - \\frac{ (x_i- \\mu)^2 }{ 2 \\sigma^2 }\\\\\n",
    "= \\sum_{i=0}^n -\\frac{1}{2} log(2) + 2log(\\sigma) + log(\\pi) - \\frac{ (x_i- \\mu)^2 }{ 2 \\sigma^2 }\\\\\n",
    "\\approx \\sum_{i=0}^n - log( \\sigma^2 ) - \\frac{ (x_i- \\mu)^2 }{ 2 \\sigma^2 }\n",
    "$$\n",
    "\n",
    "To maximize the log likelihood function, let's differentiate it with respect to $\\mu$ and $\\sigma$. Therefore:\n",
    "\n",
    "$$\n",
    "\\frac{d \\text{ log_likelihood}}{d \\mu} = \\frac{d}{d \\mu} \\frac{ \\sum_{i=0}^n (x_i- \\mu)^2 }{ 2 \\sigma^2 } \\\\\n",
    "= \\sum_{i=0}^n \\frac{(x_i - \\mu)}{ \\sigma^2 }\n",
    "$$\n",
    "\n",
    "The maximum happens at where the first derivative equal to zero, so\n",
    "\n",
    "$$\n",
    "\\sum_{i=0}^nx_i - n \\mu = 0\n",
    "$$\n",
    "\n",
    "and therefore\n",
    "\n",
    "$$\n",
    "\\mu = \\frac{ \\sum_{i=0}^nx_i }{n}\n",
    "$$"
   ]
  },
  {
   "cell_type": "markdown",
   "metadata": {},
   "source": [
    "Similarly for $\\sigma$, we differentiate:\n",
    "\n",
    "$$\n",
    "\\frac{d \\text{ log_likelihood}}{d \\sigma} = \\frac{d}{d \\sigma} \\Big( -n log( \\sigma ) - \\frac{ \\sum_{i=0}^n (x_i- \\mu)^2 }{ 2 \\sigma^2 } \\Big) \\\\\n",
    "= \\frac{-n}{\\sigma} +\\sum_{i=0}^n (x_i - \\mu)^2 \\sigma^{-3}\n",
    "$$\n",
    "\n",
    "Again since the first derivative should be zero,\n",
    "\n",
    "$$\n",
    "\\frac{-n}{\\sigma} + \\sum_{i=0}^n (x_i - \\mu)^2 \\sigma^{-3} = 0\n",
    "$$\n",
    "\n",
    "so\n",
    "\n",
    "$$\n",
    "\\sum_{i=0}^n (x_i - \\mu)^2 \\sigma^{-3} = \\frac{n}{\\sigma}\n",
    "$$\n",
    "\n",
    "and finally\n",
    "\n",
    "$$\n",
    "\\frac{\\sum_{i=0}^n (x_i - \\mu)^2}{n}  = \\sigma^2\n",
    "$$"
   ]
  }
 ],
 "metadata": {
  "anaconda-cloud": {},
  "kernelspec": {
   "display_name": "Python [Root]",
   "language": "python",
   "name": "Python [Root]"
  },
  "language_info": {
   "codemirror_mode": {
    "name": "ipython",
    "version": 2
   },
   "file_extension": ".py",
   "mimetype": "text/x-python",
   "name": "python",
   "nbconvert_exporter": "python",
   "pygments_lexer": "ipython2",
   "version": "2.7.11"
  }
 },
 "nbformat": 4,
 "nbformat_minor": 0
}
